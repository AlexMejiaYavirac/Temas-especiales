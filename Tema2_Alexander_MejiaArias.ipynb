{
 "cells": [
  {
   "cell_type": "markdown",
   "metadata": {},
   "source": [
    "## Manual\n",
    "### Tema 2: Principios basicos del aprendizaje automatico con Python.\n",
    "\n",
    "<h3><b>Librerias que ocuparemos:<b></h3> <br>\n",
    " Librerias de calculo matricial \n",
    "    <ul>\n",
    "    <li>Numpy</li>\n",
    "    <li>Scipy</li>\n",
    "    </ul>\n",
    "    \n",
    " Tratamiento de datos \n",
    "    <ul>\n",
    "    <li>Pandas</li>\n",
    "    <li>Blaze</li>\n",
    "    </ul>\n",
    "    \n",
    " Analisis estadistico y machine learning\n",
    "    <ul>\n",
    "    <li>Statsmodels</li>\n",
    "    <li>scikit learn for beginners</li>\n",
    "    </ul>\n",
    "\n",
    "  Visualizacion\n",
    "    <ul>\n",
    "    <li>Matplolib</li>\n",
    "    <li>Bokeh</li>\n",
    "    </ul>\n",
    "    \n",
    "  Analisis estadistico y machine learning\n",
    "    <ul>\n",
    "    <li>Scrapy</li>\n",
    "    <li>Networkx-Igraph</li>\n",
    "    <li>Re</li>\n",
    "    </ul>\n",
    "\n"
   ]
  },
  {
   "cell_type": "markdown",
   "metadata": {},
   "source": [
    "## Trabjando con NumPy"
   ]
  },
  {
   "cell_type": "code",
   "execution_count": 2,
   "metadata": {
    "scrolled": false
   },
   "outputs": [
    {
     "name": "stdout",
     "output_type": "stream",
     "text": [
      "Version de numpy = >  1.18.1\n",
      "filas : 3 ; columans:4\n",
      "[[ 0  1  2  3]\n",
      " [ 4  5  6  7]\n",
      " [ 8  9 10 11]]\n",
      "Diagonal [ 0  5 10]\n"
     ]
    }
   ],
   "source": [
    "import numpy as np  #Importamos la libreria de numpy \n",
    "print('Version de numpy = > ' , np.__version__) #Comprobar la version de numpy importada\n",
    "\n",
    "a = np.array([[0,1,2,3], [4,5,6,7],[8,9,10,11]])\n",
    "rows, cols = np.shape(a)\n",
    "print('filas : {} ; columans:{}'.format(rows, cols))\n",
    "print(a)\n",
    "\n",
    "print('Diagonal', np.diag(a))# Imprime la diagonal de matriz"
   ]
  },
  {
   "cell_type": "code",
   "execution_count": 3,
   "metadata": {},
   "outputs": [
    {
     "name": "stdout",
     "output_type": "stream",
     "text": [
      "[[2.+0.j 3.+0.j]\n",
      " [6.+0.j 7.+0.j]]\n"
     ]
    }
   ],
   "source": [
    "#Vctores con numeros complejos (complex numbers)\n",
    "b = np.array([[2,3],[6,7]], dtype=np.complex64)\n",
    "print(b)"
   ]
  },
  {
   "cell_type": "code",
   "execution_count": 4,
   "metadata": {},
   "outputs": [
    {
     "data": {
      "text/plain": [
       "array([[0., 0., 0., 0., 0.],\n",
       "       [0., 0., 0., 0., 0.],\n",
       "       [0., 0., 0., 0., 0.]])"
      ]
     },
     "execution_count": 4,
     "metadata": {},
     "output_type": "execute_result"
    }
   ],
   "source": [
    "#Inicializando  vectores \n",
    "np.zeros((3,5)) #Retorna un array con ceros // El primer primer numero sera el numeor de filas y el segundo el numero de columnas\n"
   ]
  },
  {
   "cell_type": "code",
   "execution_count": 5,
   "metadata": {},
   "outputs": [
    {
     "data": {
      "text/plain": [
       "array([[0.+0.j, 0.+0.j],\n",
       "       [0.+0.j, 0.+0.j]], dtype=complex64)"
      ]
     },
     "execution_count": 5,
     "metadata": {},
     "output_type": "execute_result"
    }
   ],
   "source": [
    "np.zeros_like(b) #retorna un array simolar al dado pero con ceros"
   ]
  },
  {
   "cell_type": "code",
   "execution_count": 6,
   "metadata": {},
   "outputs": [
    {
     "data": {
      "text/plain": [
       "array([[0., 0., 0.],\n",
       "       [0., 0., 0.]])"
      ]
     },
     "execution_count": 6,
     "metadata": {},
     "output_type": "execute_result"
    }
   ],
   "source": [
    "np.empty([2,3]) #La función empty se utiliza para crear una nueva matriz sin inicializar entradas."
   ]
  },
  {
   "cell_type": "code",
   "execution_count": 7,
   "metadata": {},
   "outputs": [
    {
     "data": {
      "text/plain": [
       "array([[1., 0., 0., 0., 0.],\n",
       "       [0., 1., 0., 0., 0.],\n",
       "       [0., 0., 1., 0., 0.],\n",
       "       [0., 0., 0., 1., 0.],\n",
       "       [0., 0., 0., 0., 1.]])"
      ]
     },
     "execution_count": 7,
     "metadata": {},
     "output_type": "execute_result"
    }
   ],
   "source": [
    "np.eye(5) #Devuelve una matriz con unos en la diagonal y ceros en los demas lugares"
   ]
  },
  {
   "cell_type": "code",
   "execution_count": 8,
   "metadata": {},
   "outputs": [
    {
     "data": {
      "text/plain": [
       "array([[0, 0, 0, 0, 0],\n",
       "       [0, 1, 0, 0, 0],\n",
       "       [0, 0, 2, 0, 0],\n",
       "       [0, 0, 0, 3, 0],\n",
       "       [0, 0, 0, 0, 4]])"
      ]
     },
     "execution_count": 8,
     "metadata": {},
     "output_type": "execute_result"
    }
   ],
   "source": [
    "#arange => devuelve un array con valores dentro del intervalo dado. \n",
    "#diag => construye una matriz diagonal. \n",
    "np.diag(np.arange(5)) "
   ]
  },
  {
   "cell_type": "code",
   "execution_count": 9,
   "metadata": {},
   "outputs": [
    {
     "data": {
      "text/plain": [
       "array([0, 1, 2, 3, 4, 5])"
      ]
     },
     "execution_count": 9,
     "metadata": {},
     "output_type": "execute_result"
    }
   ],
   "source": [
    "np.arange(6) #arange => devuelve un array con valores dentro del intervalo dado. "
   ]
  },
  {
   "cell_type": "code",
   "execution_count": 10,
   "metadata": {},
   "outputs": [
    {
     "data": {
      "text/plain": [
       "array([[6, 7, 6, 7, 6, 7, 6, 7, 6, 7],\n",
       "       [8, 9, 8, 9, 8, 9, 8, 9, 8, 9],\n",
       "       [6, 7, 6, 7, 6, 7, 6, 7, 6, 7],\n",
       "       [8, 9, 8, 9, 8, 9, 8, 9, 8, 9]])"
      ]
     },
     "execution_count": 10,
     "metadata": {},
     "output_type": "execute_result"
    }
   ],
   "source": [
    "np.tile(np.array([[6,7],[8,9]]),(2,5)) # tile =>construye una nueva matriz repitiendo la matriz que le pasamos la cantidad de veces que queramos repetir."
   ]
  },
  {
   "cell_type": "code",
   "execution_count": 11,
   "metadata": {},
   "outputs": [
    {
     "name": "stdout",
     "output_type": "stream",
     "text": [
      "[[ 0  1  2  3  4  5  6  7  8  9]\n",
      " [10 11 12 13 14 15 16 17 18 19]\n",
      " [20 21 22 23 24 25 26 27 28 29]\n",
      " [30 31 32 33 34 35 36 37 38 39]\n",
      " [40 41 42 43 44 45 46 47 48 49]]\n"
     ]
    }
   ],
   "source": [
    "x = np.arange(50).reshape(5,10) #reshape => ajusta las dismensiones de la estructura \n",
    "print(x)"
   ]
  },
  {
   "cell_type": "code",
   "execution_count": 12,
   "metadata": {},
   "outputs": [
    {
     "name": "stdout",
     "output_type": "stream",
     "text": [
      "[[2 3 4 5 6]\n",
      " [2 3 4 5 6]\n",
      " [2 3 4 5 6]\n",
      " [2 3 4 5 6]]\n"
     ]
    }
   ],
   "source": [
    "#construyendo generadores de valores para una matriz \n",
    "c =  np.array([[2+i for i in range(5)]  for i in range(4)])\n",
    "print(c)\n"
   ]
  },
  {
   "cell_type": "code",
   "execution_count": 13,
   "metadata": {},
   "outputs": [
    {
     "name": "stdout",
     "output_type": "stream",
     "text": [
      "[ 0.  12.5 25.  37.5 50. ]\n",
      "[[ 0. ]\n",
      " [12.5]\n",
      " [25. ]\n",
      " [37.5]\n",
      " [50. ]]\n"
     ]
    }
   ],
   "source": [
    "d = np.linspace(0,50,5) #Genera 5  puntos entre 0 y 50\n",
    "print(d)\n",
    "print(d[ : ,np.newaxis])#Convertir en un vector de columna"
   ]
  },
  {
   "cell_type": "code",
   "execution_count": 14,
   "metadata": {},
   "outputs": [
    {
     "name": "stdout",
     "output_type": "stream",
     "text": [
      "[[0 0 0 0 0]\n",
      " [1 1 1 1 1]\n",
      " [2 2 2 2 2]\n",
      " [3 3 3 3 3]\n",
      " [4 4 4 4 4]]\n",
      "--------------\n",
      "[[0 1 2 3 4]\n",
      " [0 1 2 3 4]\n",
      " [0 1 2 3 4]\n",
      " [0 1 2 3 4]\n",
      " [0 1 2 3 4]]\n"
     ]
    }
   ],
   "source": [
    "x, y = np.mgrid[0:5,0:5] #Asi se dibiga el grid, las lineas horizontales y verticales \n",
    "print(x)\n",
    "print('--------------')\n",
    "print(y)"
   ]
  },
  {
   "cell_type": "code",
   "execution_count": 15,
   "metadata": {},
   "outputs": [
    {
     "name": "stdout",
     "output_type": "stream",
     "text": [
      "[[0.         0.91033183 0.         0.         0.         0.        ]\n",
      " [0.         0.95867653 0.         0.         0.         0.        ]]\n",
      "----------------------------\n",
      "  (0, 1)\t0.9103318322708289\n",
      "  (1, 1)\t0.9586765328106177\n",
      "-----------------------------\n",
      "[[0.         0.91033183 0.         0.         0.         0.        ]\n",
      " [0.         0.95867653 0.         0.         0.         0.        ]]\n"
     ]
    }
   ],
   "source": [
    "from scipy import sparse\n",
    "x = np.random.random((2,6))\n",
    "x[x < 0.85] = 0 # damos un valor cuando los numeros sean menor a 0.85\n",
    "print(x)\n",
    "print('----------------------------') \n",
    "x_csr = sparse.csr_matrix(x) #Obtemos los valores del resultado con sus posciones\n",
    "print(x_csr) \n",
    "print('-----------------------------') \n",
    "print(x_csr.toarray())  #Convierde de nuevo a una matriz"
   ]
  },
  {
   "cell_type": "code",
   "execution_count": 16,
   "metadata": {},
   "outputs": [
    {
     "data": {
      "text/plain": [
       "array([[0.50672601, 0.0575307 , 0.62757999, 0.13255253],\n",
       "       [0.13108515, 0.78854401, 0.50668611, 0.41282608],\n",
       "       [0.5780087 , 0.48817441, 0.33596388, 0.14081627],\n",
       "       [0.89144247, 0.08631166, 0.84751223, 0.52961562]])"
      ]
     },
     "execution_count": 16,
     "metadata": {},
     "output_type": "execute_result"
    }
   ],
   "source": [
    "np.random.seed(125) #Genera numeros aleatorios en base al numero especificado \n",
    "np.random.rand(4,4) #Contruye la matriz donde se muestran los numeros aleatorios "
   ]
  },
  {
   "cell_type": "code",
   "execution_count": 17,
   "metadata": {},
   "outputs": [
    {
     "name": "stdout",
     "output_type": "stream",
     "text": [
      "[1 1 1]\n",
      "[1. 1. 1. 2. 2. 2. 2. 2.]\n"
     ]
    },
    {
     "data": {
      "text/plain": [
       "array([1, 1, 1, 2, 2, 2, 2, 2])"
      ]
     },
     "execution_count": 17,
     "metadata": {},
     "output_type": "execute_result"
    }
   ],
   "source": [
    "a = np.array([1.1,1.3,1.4]).astype(int) #Convertimos el tipo de dato de la matris de flotates a enteros\n",
    "print(a)\n",
    "\n",
    "a = np.array([1.1,1.3,1.4,1.5,1.6,1.7,1.8,1.9])\n",
    "b = np.around(a) #Nos ayuda a redondondear los numero de una matriz \n",
    "print(b)\n",
    "b.astype(int) #Convertimos los numeros redoados a integer "
   ]
  },
  {
   "cell_type": "code",
   "execution_count": 18,
   "metadata": {},
   "outputs": [
    {
     "data": {
      "text/plain": [
       "array([3, 4, 6])"
      ]
     },
     "execution_count": 18,
     "metadata": {},
     "output_type": "execute_result"
    }
   ],
   "source": [
    "a = np.array([1.0,2.0,3.0])  #Trata vectores de diferentes dimensionces durante la ejecucion de ciertas operaciones\n",
    "a.astype(int)\n",
    "b = np.array([2.0,2.0,3.0])\n",
    "b.astype(int)\n",
    "d = np.array([1,2,3])\n",
    "\n",
    "\n",
    "result = a+b #suade de vectores o matrices\n",
    "result.astype(int) #Convirtiendo el resultado a int"
   ]
  },
  {
   "cell_type": "code",
   "execution_count": 19,
   "metadata": {},
   "outputs": [
    {
     "name": "stdout",
     "output_type": "stream",
     "text": [
      "[[0.         0.        ]\n",
      " [0.91033183 0.95867653]\n",
      " [0.         0.        ]\n",
      " [0.         0.        ]\n",
      " [0.         0.        ]\n",
      " [0.         0.        ]]\n",
      "Minimo =  0.0\n",
      "Maximo  =  0.9586765328106177\n",
      "Media Aritmetica =  0.15575069709012054\n",
      "[[0.         0.91033183 0.91033183 0.91033183 0.91033183 0.91033183]\n",
      " [0.         0.95867653 0.95867653 0.95867653 0.95867653 0.95867653]]\n"
     ]
    }
   ],
   "source": [
    "#Operaciones de algebra lineal basica\n",
    "\n",
    "print(x.T)\n",
    "\n",
    "print('Minimo = ' ,x.min()) #Minamo\n",
    "print('Maximo  = ' , x.max()) #Maximo \n",
    "print('Media Aritmetica = ',x.mean()) #La media aritmetica\n",
    "\n",
    "print(x.cumsum(1)) "
   ]
  },
  {
   "cell_type": "code",
   "execution_count": 20,
   "metadata": {},
   "outputs": [
    {
     "name": "stdout",
     "output_type": "stream",
     "text": [
      "[[0.         4.55165916 0.         0.         0.         0.        ]\n",
      " [0.         4.79338266 0.         0.         0.         0.        ]]\n",
      "---------------------\n",
      "[[3.         3.91033183 3.         3.         3.         3.        ]\n",
      " [3.         3.95867653 3.         3.         3.         3.        ]]\n"
     ]
    }
   ],
   "source": [
    "print(x*5) #Expresion escalar\n",
    "print('---------------------')\n",
    "print(x+3) #suma 3 a cada eleneto de la matriz"
   ]
  },
  {
   "cell_type": "code",
   "execution_count": 21,
   "metadata": {},
   "outputs": [
    {
     "name": "stdout",
     "output_type": "stream",
     "text": [
      "[[0.82870404 0.87271376]\n",
      " [0.87271376 0.91906069]]\n"
     ]
    }
   ],
   "source": [
    "print(np.dot(x,x.T)) #Esta función devuelve el producto escalar de dos matrices."
   ]
  },
  {
   "cell_type": "markdown",
   "metadata": {},
   "source": [
    "<h3>Para el calculo de la determinante y de la matriz inversa hay que incluir la libreria SciPy</h3>\n",
    "<h5>Formula Determiante (Dimension2x2)</h5>\n",
    "<img src='https://www.matesfacil.com/matrices/determinantes/D2.png' />"
   ]
  },
  {
   "cell_type": "code",
   "execution_count": 22,
   "metadata": {},
   "outputs": [
    {
     "name": "stdout",
     "output_type": "stream",
     "text": [
      "determinante =  -2.0\n",
      "matriz inversa = \n",
      " [[-2.   1. ]\n",
      " [ 1.5 -0.5]]\n"
     ]
    }
   ],
   "source": [
    "from scipy import linalg # Calculo de la determinante\n",
    "arr = np.array([[1,2],[3,4]])\n",
    "print('determinante = ' , linalg.det(arr))\n",
    "\n",
    "print('matriz inversa = \\n',linalg.inv(arr)) #Calcula lla matriz inversa "
   ]
  },
  {
   "cell_type": "code",
   "execution_count": 23,
   "metadata": {},
   "outputs": [
    {
     "name": "stdout",
     "output_type": "stream",
     "text": [
      "6.0\n",
      "6.0\n",
      "[3. 6.]\n"
     ]
    }
   ],
   "source": [
    "b = np.array([[2.0,2.0,3.0],\n",
    "              [4.0,5.0,6.0]])\n",
    "print(b[1,2]) #Cogiendo elemetos especificos por poscicion \n",
    "print(b[-1,-1]) #Cogiendo el ultimo elemento \n",
    "print(b[:,2]) #Codgindo elementos fila 0 columna 2"
   ]
  },
  {
   "cell_type": "code",
   "execution_count": 24,
   "metadata": {},
   "outputs": [
    {
     "name": "stdout",
     "output_type": "stream",
     "text": [
      "[[ 0  1  2  3  4  5]\n",
      " [10 11 12 13 14 15]\n",
      " [20 21 22 23 24 25]\n",
      " [30 31 32 33 34 35]\n",
      " [40 41 42 43 44 45]\n",
      " [50 51 52 53 54 55]]\n",
      "-----------------------------------------\n",
      "[3 4 5]\n",
      "-----------------------------------------\n",
      "[[44 45]\n",
      " [54 55]]\n",
      "------------------------------------------\n",
      "[ 0 10 20 30 40 50]\n",
      "------------------------------------------\n",
      "[[22 23 24 25]\n",
      " [42 43 44 45]]\n"
     ]
    }
   ],
   "source": [
    "#Otras formas de acceder a los datos\n",
    "a = np.array([[10*j+i for i  in range(6)] for j in range(6)])\n",
    "print(a)\n",
    "print('-----------------------------------------')\n",
    "print(a[0,3:6]) # imprimer numeros desde 0,3 a menores de 6\n",
    "print('-----------------------------------------')\n",
    "print(a[4:,4:])\n",
    "print('------------------------------------------')\n",
    "print(a[:,0]) #Todos los elemtos dela columna especificada\n",
    "print('------------------------------------------')\n",
    "print(a[2::2, 2::])"
   ]
  },
  {
   "cell_type": "code",
   "execution_count": 25,
   "metadata": {},
   "outputs": [
    {
     "name": "stdout",
     "output_type": "stream",
     "text": [
      "[[ 0  1  2  3  4  5]\n",
      " [10 11 12 13 14 15]\n",
      " [20 21 22 23 24 25]\n",
      " [30 31 32 33 34 35]\n",
      " [40 41 42 43 44 45]\n",
      " [50 51 52 53 54 55]]\n"
     ]
    }
   ],
   "source": [
    "c = np.array(a,copy=True) # Copiar un array \n",
    "print(c)"
   ]
  },
  {
   "cell_type": "markdown",
   "metadata": {},
   "source": [
    "## Trabajando con Pandas\n",
    "Pandas es una herramienta de manipulación de datos de alto nivel desarrollada por Wes McKinney. Se basa en el paquete Numpy y su estructura de datos clave se denomina DataFrame. Los marcos de datos le permiten almacenar y manipular datos tabulares en filas de observaciones y columnas de variables."
   ]
  },
  {
   "cell_type": "code",
   "execution_count": 26,
   "metadata": {},
   "outputs": [
    {
     "data": {
      "text/plain": [
       "0    1.0\n",
       "1    2.0\n",
       "2    3.0\n",
       "3    NaN\n",
       "4    6.0\n",
       "5    7.0\n",
       "dtype: float64"
      ]
     },
     "execution_count": 26,
     "metadata": {},
     "output_type": "execute_result"
    }
   ],
   "source": [
    "import pandas as pd #Importamos la libreria de Pandas\n",
    "pd.Series([1,2,3,np.nan,6,7]) #Creamos una serie en pandas"
   ]
  },
  {
   "cell_type": "code",
   "execution_count": 27,
   "metadata": {},
   "outputs": [
    {
     "name": "stdout",
     "output_type": "stream",
     "text": [
      "DatetimeIndex(['2020-01-01', '2020-01-02', '2020-01-03', '2020-01-04',\n",
      "               '2020-01-05', '2020-01-06'],\n",
      "              dtype='datetime64[ns]', freq='D')\n",
      "-----------------------------------------------------------\n",
      "                   A         B         C         D\n",
      "2020-01-01  0.550261  0.848461  0.158998  0.297996\n",
      "2020-01-02  0.817808  0.977898  0.933133  0.310414\n",
      "2020-01-03  0.481331  0.382784  0.874249  0.363505\n",
      "2020-01-04  0.384864  0.035155  0.634643  0.009076\n",
      "2020-01-05  0.197091  0.880822  0.002330  0.109501\n",
      "2020-01-06  0.623105  0.999237  0.567151  0.487938\n"
     ]
    }
   ],
   "source": [
    "fechas = pd.date_range('20200101', periods= 6) #Definimos un rango de fechas \n",
    "print(fechas)\n",
    "print('-----------------------------------------------------------')\n",
    "dataFrame = pd.DataFrame(np.random.rand(6,4), index=fechas, columns=list('ABCD')) #Creando un data frame con pandas //Datos ramdon \n",
    "print(dataFrame)"
   ]
  },
  {
   "cell_type": "code",
   "execution_count": 28,
   "metadata": {},
   "outputs": [
    {
     "name": "stdout",
     "output_type": "stream",
     "text": [
      "   A          B    C  D       E    F\n",
      "0  0 2020-01-02  1.0  3     Uno  too\n",
      "1  1 2020-01-02  1.0  3     Dos  too\n",
      "2  2 2020-01-02  1.0  3    Tres  too\n",
      "3  3 2020-01-02  1.0  3  Cuatro  too\n"
     ]
    }
   ],
   "source": [
    "#Otras forma de crear DataFrames contruido con  varios tipos de datos \n",
    "dataFrame2= pd.DataFrame({'A': range(4),\n",
    "                         'B': pd.Timestamp('20200102'),\n",
    "                         'C': pd.Series(1,index=list(range(4)), dtype='float32'),\n",
    "                         'D': np.array([3]*4 ,dtype='int32'),\n",
    "                         'E': pd.Categorical(['Uno','Dos','Tres','Cuatro']),\n",
    "                         'F': 'too'})\n",
    "print(dataFrame2)"
   ]
  },
  {
   "cell_type": "code",
   "execution_count": 29,
   "metadata": {},
   "outputs": [
    {
     "name": "stdout",
     "output_type": "stream",
     "text": [
      "DatetimeIndex(['2020-01-01', '2020-01-02', '2020-01-03', '2020-01-04',\n",
      "               '2020-01-05', '2020-01-06'],\n",
      "              dtype='datetime64[ns]', freq='D')\n",
      "---------------------------------------------------- \n",
      "\n",
      "Index(['A', 'B', 'C', 'D'], dtype='object')\n",
      "---------------------------------------------------- \n",
      "\n",
      "[[0.10485574 0.52541646 0.28406569 0.65845292]\n",
      " [0.98952275 0.64425142 0.30310128 0.14139535]\n",
      " [0.48809945 0.16741759 0.27710608 0.0979823 ]\n",
      " [0.9304149  0.48687836 0.72068846 0.19227315]\n",
      " [0.21003226 0.24459837 0.17519978 0.36712966]\n",
      " [0.98176323 0.28586453 0.97958984 0.92429223]]\n"
     ]
    },
    {
     "data": {
      "text/html": [
       "<div>\n",
       "<style scoped>\n",
       "    .dataframe tbody tr th:only-of-type {\n",
       "        vertical-align: middle;\n",
       "    }\n",
       "\n",
       "    .dataframe tbody tr th {\n",
       "        vertical-align: top;\n",
       "    }\n",
       "\n",
       "    .dataframe thead th {\n",
       "        text-align: right;\n",
       "    }\n",
       "</style>\n",
       "<table border=\"1\" class=\"dataframe\">\n",
       "  <thead>\n",
       "    <tr style=\"text-align: right;\">\n",
       "      <th></th>\n",
       "      <th>A</th>\n",
       "      <th>B</th>\n",
       "      <th>C</th>\n",
       "      <th>D</th>\n",
       "    </tr>\n",
       "  </thead>\n",
       "  <tbody>\n",
       "    <tr>\n",
       "      <th>count</th>\n",
       "      <td>6.000000</td>\n",
       "      <td>6.000000</td>\n",
       "      <td>6.000000</td>\n",
       "      <td>6.000000</td>\n",
       "    </tr>\n",
       "    <tr>\n",
       "      <th>mean</th>\n",
       "      <td>0.617448</td>\n",
       "      <td>0.392404</td>\n",
       "      <td>0.456625</td>\n",
       "      <td>0.396921</td>\n",
       "    </tr>\n",
       "    <tr>\n",
       "      <th>std</th>\n",
       "      <td>0.403629</td>\n",
       "      <td>0.186473</td>\n",
       "      <td>0.318746</td>\n",
       "      <td>0.329832</td>\n",
       "    </tr>\n",
       "    <tr>\n",
       "      <th>min</th>\n",
       "      <td>0.104856</td>\n",
       "      <td>0.167418</td>\n",
       "      <td>0.175200</td>\n",
       "      <td>0.097982</td>\n",
       "    </tr>\n",
       "    <tr>\n",
       "      <th>25%</th>\n",
       "      <td>0.279549</td>\n",
       "      <td>0.254915</td>\n",
       "      <td>0.278846</td>\n",
       "      <td>0.154115</td>\n",
       "    </tr>\n",
       "    <tr>\n",
       "      <th>50%</th>\n",
       "      <td>0.709257</td>\n",
       "      <td>0.386371</td>\n",
       "      <td>0.293583</td>\n",
       "      <td>0.279701</td>\n",
       "    </tr>\n",
       "    <tr>\n",
       "      <th>75%</th>\n",
       "      <td>0.968926</td>\n",
       "      <td>0.515782</td>\n",
       "      <td>0.616292</td>\n",
       "      <td>0.585622</td>\n",
       "    </tr>\n",
       "    <tr>\n",
       "      <th>max</th>\n",
       "      <td>0.989523</td>\n",
       "      <td>0.644251</td>\n",
       "      <td>0.979590</td>\n",
       "      <td>0.924292</td>\n",
       "    </tr>\n",
       "  </tbody>\n",
       "</table>\n",
       "</div>"
      ],
      "text/plain": [
       "              A         B         C         D\n",
       "count  6.000000  6.000000  6.000000  6.000000\n",
       "mean   0.617448  0.392404  0.456625  0.396921\n",
       "std    0.403629  0.186473  0.318746  0.329832\n",
       "min    0.104856  0.167418  0.175200  0.097982\n",
       "25%    0.279549  0.254915  0.278846  0.154115\n",
       "50%    0.709257  0.386371  0.293583  0.279701\n",
       "75%    0.968926  0.515782  0.616292  0.585622\n",
       "max    0.989523  0.644251  0.979590  0.924292"
      ]
     },
     "execution_count": 29,
     "metadata": {},
     "output_type": "execute_result"
    }
   ],
   "source": [
    "# Funciones utiles para acceder a las caracteristicas de un DataFrame\n",
    "dataFrame = pd.DataFrame(np.random.rand(6,4), index=fechas, columns=list('ABCD'))\n",
    "print(dataFrame.index) #Imprime los index del DataFrame\n",
    "print('---------------------------------------------------- \\n')\n",
    "print(dataFrame.columns) #Imprime las columas del DataFrame\n",
    "print('---------------------------------------------------- \\n')\n",
    "print(dataFrame.values) #Imprime los valores del DataFrame\n",
    "# describe() =>  Genera estadísticas descriptivas. Las estadísticas descriptivas incluyen aquellas que resumen la tendencia central, la dispersión y la forma de la distribución de un conjunto de datos, excluyendo los valores de NaN.\n",
    "dataFrame.describe() "
   ]
  },
  {
   "cell_type": "code",
   "execution_count": 30,
   "metadata": {
    "scrolled": true
   },
   "outputs": [
    {
     "name": "stdout",
     "output_type": "stream",
     "text": [
      "   2020-01-01  2020-01-02  2020-01-03  2020-01-04  2020-01-05  2020-01-06\n",
      "A    0.104856    0.989523    0.488099    0.930415    0.210032    0.981763\n",
      "B    0.525416    0.644251    0.167418    0.486878    0.244598    0.285865\n",
      "C    0.284066    0.303101    0.277106    0.720688    0.175200    0.979590\n",
      "D    0.658453    0.141395    0.097982    0.192273    0.367130    0.924292\n"
     ]
    },
    {
     "data": {
      "text/html": [
       "<div>\n",
       "<style scoped>\n",
       "    .dataframe tbody tr th:only-of-type {\n",
       "        vertical-align: middle;\n",
       "    }\n",
       "\n",
       "    .dataframe tbody tr th {\n",
       "        vertical-align: top;\n",
       "    }\n",
       "\n",
       "    .dataframe thead th {\n",
       "        text-align: right;\n",
       "    }\n",
       "</style>\n",
       "<table border=\"1\" class=\"dataframe\">\n",
       "  <thead>\n",
       "    <tr style=\"text-align: right;\">\n",
       "      <th></th>\n",
       "      <th>A</th>\n",
       "      <th>B</th>\n",
       "      <th>C</th>\n",
       "      <th>D</th>\n",
       "    </tr>\n",
       "  </thead>\n",
       "  <tbody>\n",
       "    <tr>\n",
       "      <th>2020-01-06</th>\n",
       "      <td>0.981763</td>\n",
       "      <td>0.285865</td>\n",
       "      <td>0.979590</td>\n",
       "      <td>0.924292</td>\n",
       "    </tr>\n",
       "    <tr>\n",
       "      <th>2020-01-05</th>\n",
       "      <td>0.210032</td>\n",
       "      <td>0.244598</td>\n",
       "      <td>0.175200</td>\n",
       "      <td>0.367130</td>\n",
       "    </tr>\n",
       "    <tr>\n",
       "      <th>2020-01-04</th>\n",
       "      <td>0.930415</td>\n",
       "      <td>0.486878</td>\n",
       "      <td>0.720688</td>\n",
       "      <td>0.192273</td>\n",
       "    </tr>\n",
       "    <tr>\n",
       "      <th>2020-01-03</th>\n",
       "      <td>0.488099</td>\n",
       "      <td>0.167418</td>\n",
       "      <td>0.277106</td>\n",
       "      <td>0.097982</td>\n",
       "    </tr>\n",
       "    <tr>\n",
       "      <th>2020-01-02</th>\n",
       "      <td>0.989523</td>\n",
       "      <td>0.644251</td>\n",
       "      <td>0.303101</td>\n",
       "      <td>0.141395</td>\n",
       "    </tr>\n",
       "    <tr>\n",
       "      <th>2020-01-01</th>\n",
       "      <td>0.104856</td>\n",
       "      <td>0.525416</td>\n",
       "      <td>0.284066</td>\n",
       "      <td>0.658453</td>\n",
       "    </tr>\n",
       "  </tbody>\n",
       "</table>\n",
       "</div>"
      ],
      "text/plain": [
       "                   A         B         C         D\n",
       "2020-01-06  0.981763  0.285865  0.979590  0.924292\n",
       "2020-01-05  0.210032  0.244598  0.175200  0.367130\n",
       "2020-01-04  0.930415  0.486878  0.720688  0.192273\n",
       "2020-01-03  0.488099  0.167418  0.277106  0.097982\n",
       "2020-01-02  0.989523  0.644251  0.303101  0.141395\n",
       "2020-01-01  0.104856  0.525416  0.284066  0.658453"
      ]
     },
     "execution_count": 30,
     "metadata": {},
     "output_type": "execute_result"
    }
   ],
   "source": [
    "print(dataFrame.T) #Imprime filas como columnas y viceversa\n",
    "\n",
    "#axis=>.Ordena dependiendo el valor, valor 0 identifica las filas y 1 identifica las columnas.\n",
    "# ascending => orden ascendente vs descedente\n",
    "dataFrame.sort_index(axis=0, ascending=False)\n"
   ]
  },
  {
   "cell_type": "code",
   "execution_count": 31,
   "metadata": {},
   "outputs": [
    {
     "name": "stdout",
     "output_type": "stream",
     "text": [
      "                   A         B         C         D\n",
      "2020-01-01  0.631067  0.119238  0.855842  0.782623\n",
      "2020-01-02  0.815908  0.575624  0.037598  0.532883\n",
      "2020-01-03  0.346577  0.329280  0.606794  0.825932\n",
      "2020-01-04  0.273021  0.503340  0.828568  0.429792\n",
      "2020-01-05  0.491665  0.752531  0.780970  0.524148\n",
      "2020-01-06  0.635208  0.283928  0.821345  0.874243\n",
      "---------------------------------------------\n",
      "                   A         B         C         D\n",
      "2020-01-01  0.631067  0.119238  0.855842  0.782623\n",
      "2020-01-02  0.815908  0.575624  0.037598  0.532883\n"
     ]
    },
    {
     "data": {
      "text/html": [
       "<div>\n",
       "<style scoped>\n",
       "    .dataframe tbody tr th:only-of-type {\n",
       "        vertical-align: middle;\n",
       "    }\n",
       "\n",
       "    .dataframe tbody tr th {\n",
       "        vertical-align: top;\n",
       "    }\n",
       "\n",
       "    .dataframe thead th {\n",
       "        text-align: right;\n",
       "    }\n",
       "</style>\n",
       "<table border=\"1\" class=\"dataframe\">\n",
       "  <thead>\n",
       "    <tr style=\"text-align: right;\">\n",
       "      <th></th>\n",
       "      <th>A</th>\n",
       "      <th>B</th>\n",
       "      <th>C</th>\n",
       "      <th>D</th>\n",
       "    </tr>\n",
       "  </thead>\n",
       "  <tbody>\n",
       "    <tr>\n",
       "      <th>2020-01-05</th>\n",
       "      <td>0.491665</td>\n",
       "      <td>0.752531</td>\n",
       "      <td>0.780970</td>\n",
       "      <td>0.524148</td>\n",
       "    </tr>\n",
       "    <tr>\n",
       "      <th>2020-01-06</th>\n",
       "      <td>0.635208</td>\n",
       "      <td>0.283928</td>\n",
       "      <td>0.821345</td>\n",
       "      <td>0.874243</td>\n",
       "    </tr>\n",
       "  </tbody>\n",
       "</table>\n",
       "</div>"
      ],
      "text/plain": [
       "                   A         B         C         D\n",
       "2020-01-05  0.491665  0.752531  0.780970  0.524148\n",
       "2020-01-06  0.635208  0.283928  0.821345  0.874243"
      ]
     },
     "execution_count": 31,
     "metadata": {},
     "output_type": "execute_result"
    }
   ],
   "source": [
    "dataFrame = pd.DataFrame(np.random.rand(6,4), index=fechas, columns=list('ABCD'))\n",
    "\n",
    "print(dataFrame)\n",
    "print('---------------------------------------------')\n",
    "print(dataFrame.head(2)) #Devuelve las primeras n filas del inicio para abajo.\n",
    "\n",
    "dataFrame.tail(2)#Devuelve las primeras n filas del final para arriba."
   ]
  },
  {
   "cell_type": "code",
   "execution_count": 32,
   "metadata": {},
   "outputs": [
    {
     "name": "stdout",
     "output_type": "stream",
     "text": [
      "2020-01-01    0.631067\n",
      "2020-01-02    0.815908\n",
      "2020-01-03    0.346577\n",
      "2020-01-04    0.273021\n",
      "2020-01-05    0.491665\n",
      "2020-01-06    0.635208\n",
      "Freq: D, Name: A, dtype: float64\n",
      "                   A         B         C         D\n",
      "2020-01-01  0.631067  0.119238  0.855842  0.782623\n",
      "2020-01-02  0.815908  0.575624  0.037598  0.532883\n",
      "2020-01-03  0.346577  0.329280  0.606794  0.825932\n",
      "------------------ \n",
      "\n",
      "A    0.631067\n",
      "B    0.119238\n",
      "C    0.855842\n",
      "D    0.782623\n",
      "Name: 2020-01-01 00:00:00, dtype: float64\n",
      "                   B         C\n",
      "2020-01-01  0.119238  0.855842\n",
      "2020-01-02  0.575624  0.037598\n",
      "2020-01-03  0.329280  0.606794\n",
      "2020-01-04  0.503340  0.828568\n",
      "2020-01-05  0.752531  0.780970\n",
      "2020-01-06  0.283928  0.821345\n"
     ]
    },
    {
     "data": {
      "text/html": [
       "<div>\n",
       "<style scoped>\n",
       "    .dataframe tbody tr th:only-of-type {\n",
       "        vertical-align: middle;\n",
       "    }\n",
       "\n",
       "    .dataframe tbody tr th {\n",
       "        vertical-align: top;\n",
       "    }\n",
       "\n",
       "    .dataframe thead th {\n",
       "        text-align: right;\n",
       "    }\n",
       "</style>\n",
       "<table border=\"1\" class=\"dataframe\">\n",
       "  <thead>\n",
       "    <tr style=\"text-align: right;\">\n",
       "      <th></th>\n",
       "      <th>C</th>\n",
       "      <th>D</th>\n",
       "    </tr>\n",
       "  </thead>\n",
       "  <tbody>\n",
       "    <tr>\n",
       "      <th>2020-01-02</th>\n",
       "      <td>0.037598</td>\n",
       "      <td>0.532883</td>\n",
       "    </tr>\n",
       "    <tr>\n",
       "      <th>2020-01-03</th>\n",
       "      <td>0.606794</td>\n",
       "      <td>0.825932</td>\n",
       "    </tr>\n",
       "  </tbody>\n",
       "</table>\n",
       "</div>"
      ],
      "text/plain": [
       "                   C         D\n",
       "2020-01-02  0.037598  0.532883\n",
       "2020-01-03  0.606794  0.825932"
      ]
     },
     "execution_count": 32,
     "metadata": {},
     "output_type": "execute_result"
    }
   ],
   "source": [
    "#Seleccionando valores a travez del indice\n",
    "# Acceder a los valores  por una columna o fila \n",
    "print(dataFrame['A']) #Acceder por columma\n",
    "print(dataFrame[0:3])#Accediendo a un rango de filas\n",
    "print('------------------ \\n')\n",
    "#Si se quiere hacer una seleccion por indice ocuparemos la funcion .loc()\n",
    "print(dataFrame.loc[fechas[0]])\n",
    "\n",
    "#Acceder por etiquetas o label \n",
    "print(dataFrame.loc[:,['B','C']])\n",
    "\n",
    "dataFrame.loc['20200102':'20200103' , ['C','D']]#Accediendo por fechas y las columnas que se quiere mostrar"
   ]
  },
  {
   "cell_type": "code",
   "execution_count": 56,
   "metadata": {},
   "outputs": [
    {
     "name": "stdout",
     "output_type": "stream",
     "text": [
      "                   A         B         C         D\n",
      "2020-01-01  0.831116  0.445132  0.340893  0.396190\n",
      "2020-01-02  0.874575  0.630277  0.092527  0.390542\n",
      "2020-01-03  0.349693  0.442400  0.266596  0.710323\n",
      "2020-01-04  0.423754  0.889864  0.605476  0.732055\n",
      "2020-01-05  0.354630  0.299762  0.271023  0.229727\n",
      "2020-01-06  0.462841  0.676272  0.482099  0.984489\n",
      "-----------------------------------------------------------------------\n",
      "0.6054758925861773\n",
      "-----------------------------------------------------------------------\n"
     ]
    },
    {
     "data": {
      "text/html": [
       "<div>\n",
       "<style scoped>\n",
       "    .dataframe tbody tr th:only-of-type {\n",
       "        vertical-align: middle;\n",
       "    }\n",
       "\n",
       "    .dataframe tbody tr th {\n",
       "        vertical-align: top;\n",
       "    }\n",
       "\n",
       "    .dataframe thead th {\n",
       "        text-align: right;\n",
       "    }\n",
       "</style>\n",
       "<table border=\"1\" class=\"dataframe\">\n",
       "  <thead>\n",
       "    <tr style=\"text-align: right;\">\n",
       "      <th></th>\n",
       "      <th>A</th>\n",
       "      <th>C</th>\n",
       "    </tr>\n",
       "  </thead>\n",
       "  <tbody>\n",
       "    <tr>\n",
       "      <th>2020-01-02</th>\n",
       "      <td>0.874575</td>\n",
       "      <td>0.092527</td>\n",
       "    </tr>\n",
       "    <tr>\n",
       "      <th>2020-01-03</th>\n",
       "      <td>0.349693</td>\n",
       "      <td>0.266596</td>\n",
       "    </tr>\n",
       "    <tr>\n",
       "      <th>2020-01-05</th>\n",
       "      <td>0.354630</td>\n",
       "      <td>0.271023</td>\n",
       "    </tr>\n",
       "  </tbody>\n",
       "</table>\n",
       "</div>"
      ],
      "text/plain": [
       "                   A         C\n",
       "2020-01-02  0.874575  0.092527\n",
       "2020-01-03  0.349693  0.266596\n",
       "2020-01-05  0.354630  0.271023"
      ]
     },
     "execution_count": 56,
     "metadata": {},
     "output_type": "execute_result"
    }
   ],
   "source": [
    "# Accediendo mediate la poscion del indice\n",
    "# iloc() => Indización basada en la ubicación puramente entera para la selección por posición.\n",
    "dataFrame = pd.DataFrame(np.random.rand(6,4), index=fechas, columns=list('ABCD'))\n",
    "print(dataFrame)\n",
    "print('-----------------------------------------------------------------------')\n",
    "print(dataFrame.iloc[3,2]) #Accedemos al valor por la posicion\n",
    "print('-----------------------------------------------------------------------')\n",
    "#Accedemos al valor por la posicion por fila y columna\n",
    "\n",
    "dataFrame.iloc[[1,2,4],[0,2]]"
   ]
  },
  {
   "cell_type": "code",
   "execution_count": 74,
   "metadata": {},
   "outputs": [
    {
     "name": "stdout",
     "output_type": "stream",
     "text": [
      "                   A         B         C         D\n",
      "2020-01-01  0.409360  0.416566  0.960371  0.258256\n",
      "2020-01-02  0.701122  0.646560  0.252526  0.141134\n",
      "2020-01-03  0.365459  0.992418  0.130275  0.298539\n",
      "2020-01-04  0.422954  0.811614  0.100550  0.749065\n",
      "2020-01-05  0.137881  0.813070  0.796897  0.996959\n",
      "2020-01-06  0.328516  0.608180  0.392063  0.388211\n",
      "                   A        B         C         D\n",
      "2020-01-02  0.701122  0.64656  0.252526  0.141134\n"
     ]
    },
    {
     "data": {
      "text/html": [
       "<div>\n",
       "<style scoped>\n",
       "    .dataframe tbody tr th:only-of-type {\n",
       "        vertical-align: middle;\n",
       "    }\n",
       "\n",
       "    .dataframe tbody tr th {\n",
       "        vertical-align: top;\n",
       "    }\n",
       "\n",
       "    .dataframe thead th {\n",
       "        text-align: right;\n",
       "    }\n",
       "</style>\n",
       "<table border=\"1\" class=\"dataframe\">\n",
       "  <thead>\n",
       "    <tr style=\"text-align: right;\">\n",
       "      <th></th>\n",
       "      <th>A</th>\n",
       "      <th>B</th>\n",
       "      <th>C</th>\n",
       "      <th>D</th>\n",
       "    </tr>\n",
       "  </thead>\n",
       "  <tbody>\n",
       "    <tr>\n",
       "      <th>2020-01-01</th>\n",
       "      <td>NaN</td>\n",
       "      <td>NaN</td>\n",
       "      <td>0.960371</td>\n",
       "      <td>NaN</td>\n",
       "    </tr>\n",
       "    <tr>\n",
       "      <th>2020-01-02</th>\n",
       "      <td>0.701122</td>\n",
       "      <td>0.646560</td>\n",
       "      <td>NaN</td>\n",
       "      <td>NaN</td>\n",
       "    </tr>\n",
       "    <tr>\n",
       "      <th>2020-01-03</th>\n",
       "      <td>NaN</td>\n",
       "      <td>0.992418</td>\n",
       "      <td>NaN</td>\n",
       "      <td>NaN</td>\n",
       "    </tr>\n",
       "    <tr>\n",
       "      <th>2020-01-04</th>\n",
       "      <td>NaN</td>\n",
       "      <td>0.811614</td>\n",
       "      <td>NaN</td>\n",
       "      <td>0.749065</td>\n",
       "    </tr>\n",
       "    <tr>\n",
       "      <th>2020-01-05</th>\n",
       "      <td>NaN</td>\n",
       "      <td>0.813070</td>\n",
       "      <td>0.796897</td>\n",
       "      <td>0.996959</td>\n",
       "    </tr>\n",
       "    <tr>\n",
       "      <th>2020-01-06</th>\n",
       "      <td>NaN</td>\n",
       "      <td>0.608180</td>\n",
       "      <td>NaN</td>\n",
       "      <td>NaN</td>\n",
       "    </tr>\n",
       "  </tbody>\n",
       "</table>\n",
       "</div>"
      ],
      "text/plain": [
       "                   A         B         C         D\n",
       "2020-01-01       NaN       NaN  0.960371       NaN\n",
       "2020-01-02  0.701122  0.646560       NaN       NaN\n",
       "2020-01-03       NaN  0.992418       NaN       NaN\n",
       "2020-01-04       NaN  0.811614       NaN  0.749065\n",
       "2020-01-05       NaN  0.813070  0.796897  0.996959\n",
       "2020-01-06       NaN  0.608180       NaN       NaN"
      ]
     },
     "execution_count": 74,
     "metadata": {},
     "output_type": "execute_result"
    }
   ],
   "source": [
    "#Seleccionando valores que cumplan una condicion \n",
    "dataFrame = pd.DataFrame(np.random.rand(6,4), index=fechas, columns=list('ABCD'))\n",
    "print(dataFrame)\n",
    "print(dataFrame[dataFrame.A > 0.5 ]) #Devuelve solo los valores que cumplen la condicion  // Agregamos A para que solo nos devuelva os valores que cumloen la condicion \n",
    "dataFrame[dataFrame > 0.5] #Al no agregar A nos devuel ve NaN en los valores qeu no cumple la condicion \n"
   ]
  },
  {
   "cell_type": "code",
   "execution_count": 112,
   "metadata": {
    "scrolled": true
   },
   "outputs": [
    {
     "data": {
      "text/html": [
       "<div>\n",
       "<style scoped>\n",
       "    .dataframe tbody tr th:only-of-type {\n",
       "        vertical-align: middle;\n",
       "    }\n",
       "\n",
       "    .dataframe tbody tr th {\n",
       "        vertical-align: top;\n",
       "    }\n",
       "\n",
       "    .dataframe thead th {\n",
       "        text-align: right;\n",
       "    }\n",
       "</style>\n",
       "<table border=\"1\" class=\"dataframe\">\n",
       "  <thead>\n",
       "    <tr style=\"text-align: right;\">\n",
       "      <th></th>\n",
       "      <th>alumnos_x</th>\n",
       "      <th>curso</th>\n",
       "      <th>alumnos_y</th>\n",
       "    </tr>\n",
       "  </thead>\n",
       "  <tbody>\n",
       "    <tr>\n",
       "      <th>0</th>\n",
       "      <td>Alexander</td>\n",
       "      <td>a</td>\n",
       "      <td>Pedro</td>\n",
       "    </tr>\n",
       "    <tr>\n",
       "      <th>1</th>\n",
       "      <td>Patrico</td>\n",
       "      <td>b</td>\n",
       "      <td>Pablo</td>\n",
       "    </tr>\n",
       "    <tr>\n",
       "      <th>2</th>\n",
       "      <td>Juanes</td>\n",
       "      <td>c</td>\n",
       "      <td>Jimena</td>\n",
       "    </tr>\n",
       "  </tbody>\n",
       "</table>\n",
       "</div>"
      ],
      "text/plain": [
       "   alumnos_x curso alumnos_y\n",
       "0  Alexander     a     Pedro\n",
       "1    Patrico     b     Pablo\n",
       "2     Juanes     c    Jimena"
      ]
     },
     "execution_count": 112,
     "metadata": {},
     "output_type": "execute_result"
    }
   ],
   "source": [
    "#Funcion join con pandas\n",
    "matriz1 = pd.DataFrame({'alumnos' : ['Alexander','Patrico','Juanes'], 'curso':['a','b','c']})\n",
    "matriz2 = pd.DataFrame({'alumnos' : ['Pedro','Pablo','Jimena'], 'curso':['a','b','c']})\n",
    "pd.merge(matriz1,matriz2, on='curso')"
   ]
  },
  {
   "cell_type": "code",
   "execution_count": 133,
   "metadata": {},
   "outputs": [
    {
     "name": "stdout",
     "output_type": "stream",
     "text": [
      "        A  B         C         D\n",
      "0     foo  1  0.431282  0.396124\n",
      "1     bar  2  0.583018  0.552198\n",
      "2  tomate  3  0.593555  0.916143\n",
      "3     bar  4  0.839352  0.098261\n",
      "4     foo  5  0.175453  0.251566\n",
      "5     bar  6  0.187513  0.156972\n",
      "6     foo  7  0.803762  0.645030\n",
      "7     foo  8  0.851692  0.387850\n"
     ]
    },
    {
     "data": {
      "text/html": [
       "<div>\n",
       "<style scoped>\n",
       "    .dataframe tbody tr th:only-of-type {\n",
       "        vertical-align: middle;\n",
       "    }\n",
       "\n",
       "    .dataframe tbody tr th {\n",
       "        vertical-align: top;\n",
       "    }\n",
       "\n",
       "    .dataframe thead th {\n",
       "        text-align: right;\n",
       "    }\n",
       "</style>\n",
       "<table border=\"1\" class=\"dataframe\">\n",
       "  <thead>\n",
       "    <tr style=\"text-align: right;\">\n",
       "      <th></th>\n",
       "      <th>B</th>\n",
       "      <th>C</th>\n",
       "      <th>D</th>\n",
       "    </tr>\n",
       "    <tr>\n",
       "      <th>A</th>\n",
       "      <th></th>\n",
       "      <th></th>\n",
       "      <th></th>\n",
       "    </tr>\n",
       "  </thead>\n",
       "  <tbody>\n",
       "    <tr>\n",
       "      <th>bar</th>\n",
       "      <td>12</td>\n",
       "      <td>1.609882</td>\n",
       "      <td>0.807431</td>\n",
       "    </tr>\n",
       "    <tr>\n",
       "      <th>foo</th>\n",
       "      <td>21</td>\n",
       "      <td>2.262188</td>\n",
       "      <td>1.680570</td>\n",
       "    </tr>\n",
       "    <tr>\n",
       "      <th>tomate</th>\n",
       "      <td>3</td>\n",
       "      <td>0.593555</td>\n",
       "      <td>0.916143</td>\n",
       "    </tr>\n",
       "  </tbody>\n",
       "</table>\n",
       "</div>"
      ],
      "text/plain": [
       "         B         C         D\n",
       "A                             \n",
       "bar     12  1.609882  0.807431\n",
       "foo     21  2.262188  1.680570\n",
       "tomate   3  0.593555  0.916143"
      ]
     },
     "execution_count": 133,
     "metadata": {},
     "output_type": "execute_result"
    }
   ],
   "source": [
    "# Pandas tambien nos da posinilidad de ejecutar junciones de agrupacion (groupby)\n",
    "\n",
    "dataFrame = pd.DataFrame({'A': ['foo','bar','tomate','bar','foo','bar','foo','foo'],\n",
    "                          'B': [1,2,3,4,5,6,7,8],\n",
    "                          'C': np.random.rand(8),\n",
    "                           'D': np.random.rand(8)})\n",
    "print(dataFrame)\n",
    "\n",
    "dataFrame.groupby('A').sum() #Funcion groupby() similar a la de sql"
   ]
  },
  {
   "cell_type": "markdown",
   "metadata": {},
   "source": [
    "### Regerecion lineal con python(Sklearn)\n",
    "\n",
    "El modelo siguiente emplea una proximacion por el metodo de los minimos cuadrados\n",
    "\n",
    "Objetivo : Obtener la ecuacion lineal que minimiza el error cuadratico."
   ]
  },
  {
   "cell_type": "code",
   "execution_count": 139,
   "metadata": {
    "scrolled": true
   },
   "outputs": [
    {
     "name": "stdout",
     "output_type": "stream",
     "text": [
      "Coefficients: \n",
      " [938.23786125]\n",
      "Mean squared error: 2548.07\n",
      "Coefficient of determination: 0.47\n"
     ]
    },
    {
     "data": {
      "image/png": "[encoded data removed]",
      "text/plain": [
       "<Figure size 432x288 with 1 Axes>"
      ]
     },
     "metadata": {},
     "output_type": "display_data"
    }
   ],
   "source": [
    "# Code source: Jaques Grobler\n",
    "# License: BSD 3 clause\n",
    "\n",
    "\n",
    "import matplotlib.pyplot as plt\n",
    "import numpy as np\n",
    "from sklearn import datasets, linear_model\n",
    "from sklearn.metrics import mean_squared_error, r2_score\n",
    "\n",
    "# Load the diabetes dataset\n",
    "diabetes_X, diabetes_y = datasets.load_diabetes(return_X_y=True)\n",
    "\n",
    "# Use only one feature\n",
    "diabetes_X = diabetes_X[:, np.newaxis, 2]\n",
    "\n",
    "# Split the data into training/testing sets\n",
    "diabetes_X_train = diabetes_X[:-20]\n",
    "diabetes_X_test = diabetes_X[-20:]\n",
    "\n",
    "# Split the targets into training/testing sets\n",
    "diabetes_y_train = diabetes_y[:-20]\n",
    "diabetes_y_test = diabetes_y[-20:]\n",
    "\n",
    "# Create linear regression object\n",
    "regr = linear_model.LinearRegression()\n",
    "\n",
    "# Train the model using the training sets\n",
    "regr.fit(diabetes_X_train, diabetes_y_train)\n",
    "\n",
    "# Make predictions using the testing set\n",
    "diabetes_y_pred = regr.predict(diabetes_X_test)\n",
    "\n",
    "# The coefficients\n",
    "print('Coefficients: \\n', regr.coef_)\n",
    "# The mean squared error\n",
    "print('Mean squared error: %.2f'\n",
    "      % mean_squared_error(diabetes_y_test, diabetes_y_pred))\n",
    "# The coefficient of determination: 1 is perfect prediction\n",
    "print('Coefficient of determination: %.2f'\n",
    "      % r2_score(diabetes_y_test, diabetes_y_pred))\n",
    "\n",
    "# Plot outputs\n",
    "plt.scatter(diabetes_X_test, diabetes_y_test,  color='black')\n",
    "plt.plot(diabetes_X_test, diabetes_y_pred, color='blue', linewidth=3)\n",
    "\n",
    "plt.xticks(())\n",
    "plt.yticks(())\n",
    "\n",
    "plt.show()"
   ]
  },
  {
   "cell_type": "markdown",
   "metadata": {},
   "source": [
    "El codigo esta basado en datos sobre los pacientes diabeticos de libre difusion.\n"
   ]
  }
 ],
 "metadata": {
  "kernelspec": {
   "display_name": "Python 3",
   "language": "python",
   "name": "python3"
  },
  "language_info": {
   "codemirror_mode": {
    "name": "ipython",
    "version": 3
   },
   "file_extension": ".py",
   "mimetype": "text/x-python",
   "name": "python",
   "nbconvert_exporter": "python",
   "pygments_lexer": "ipython3",
   "version": "3.7.6"
  }
 },
 "nbformat": 4,
 "nbformat_minor": 4
}
