{
 "cells": [
  {
   "cell_type": "markdown",
   "metadata": {},
   "source": [
    "## Manual\n",
    "### Tema 2: Principios basicos del aprendizaje automatico con Python.\n",
    "\n",
    "<h3><b>Librerias que ocuparemos:<b></h3> <br>\n",
    " Librerias de calculo matricial \n",
    "    <ul>\n",
    "    <li>Numpy</li>\n",
    "    <li>Scipy</li>\n",
    "    </ul>\n",
    "    \n",
    " Tratamiento de datos \n",
    "    <ul>\n",
    "    <li>Pandas</li>\n",
    "    <li>Blaze</li>\n",
    "    </ul>\n",
    "    \n",
    " Analisis estadistico y machine learning\n",
    "    <ul>\n",
    "    <li>Statsmodels</li>\n",
    "    <li>scikit learn for beginners</li>\n",
    "    </ul>\n",
    "\n",
    "  Visualizacion\n",
    "    <ul>\n",
    "    <li>Matplolib</li>\n",
    "    <li>Bokeh</li>\n",
    "    </ul>\n",
    "    \n",
    "  Analisis estadistico y machine learning\n",
    "    <ul>\n",
    "    <li>Scrapy</li>\n",
    "    <li>Networkx-Igraph</li>\n",
    "    <li>Re</li>\n",
    "    </ul>\n",
    "\n"
   ]
  },
  {
   "cell_type": "markdown",
   "metadata": {},
   "source": [
    "## Trabjando con NumPy"
   ]
  },
  {
   "cell_type": "code",
   "execution_count": 82,
   "metadata": {
    "scrolled": false
   },
   "outputs": [
    {
     "name": "stdout",
     "output_type": "stream",
     "text": [
      "Version de numpy = >  1.18.1\n",
      "filas : 3 ; columans:4\n",
      "[[ 0  1  2  3]\n",
      " [ 4  5  6  7]\n",
      " [ 8  9 10 11]]\n",
      "Diagonal [ 0  5 10]\n"
     ]
    }
   ],
   "source": [
    "import numpy as np  #Importamos la libreria de numpy \n",
    "print('Version de numpy = > ' , np.__version__) #Comprobar la version de numpy importada\n",
    "\n",
    "a = np.array([[0,1,2,3], [4,5,6,7],[8,9,10,11]])\n",
    "rows, cols = np.shape(a)\n",
    "print('filas : {} ; columans:{}'.format(rows, cols))\n",
    "print(a)\n",
    "\n",
    "print('Diagonal', np.diag(a))# Imprime la diagonal de matriz"
   ]
  },
  {
   "cell_type": "code",
   "execution_count": 83,
   "metadata": {},
   "outputs": [
    {
     "name": "stdout",
     "output_type": "stream",
     "text": [
      "[[2.+0.j 3.+0.j]\n",
      " [6.+0.j 7.+0.j]]\n"
     ]
    }
   ],
   "source": [
    "#Vctores con numeros complejos (complex numbers)\n",
    "b = np.array([[2,3],[6,7]], dtype=np.complex64)\n",
    "print(b)"
   ]
  },
  {
   "cell_type": "code",
   "execution_count": 84,
   "metadata": {},
   "outputs": [
    {
     "data": {
      "text/plain": [
       "array([[0., 0., 0., 0., 0.],\n",
       "       [0., 0., 0., 0., 0.],\n",
       "       [0., 0., 0., 0., 0.]])"
      ]
     },
     "execution_count": 84,
     "metadata": {},
     "output_type": "execute_result"
    }
   ],
   "source": [
    "#Inicializando  vectores \n",
    "np.zeros((3,5)) #Retorna un array con ceros // El primer primer numero sera el numeor de filas y el segundo el numero de columnas\n"
   ]
  },
  {
   "cell_type": "code",
   "execution_count": 85,
   "metadata": {},
   "outputs": [
    {
     "data": {
      "text/plain": [
       "array([[0.+0.j, 0.+0.j],\n",
       "       [0.+0.j, 0.+0.j]], dtype=complex64)"
      ]
     },
     "execution_count": 85,
     "metadata": {},
     "output_type": "execute_result"
    }
   ],
   "source": [
    "np.zeros_like(b) #retorna un array simolar al dado pero con ceros"
   ]
  },
  {
   "cell_type": "code",
   "execution_count": 86,
   "metadata": {},
   "outputs": [
    {
     "data": {
      "text/plain": [
       "array([[0.0e+000, 2.5e-323, 4.9e-324],\n",
       "       [0.0e+000, 4.9e-324, 2.0e-323]])"
      ]
     },
     "execution_count": 86,
     "metadata": {},
     "output_type": "execute_result"
    }
   ],
   "source": [
    "np.empty([2,3]) #La función empty se utiliza para crear una nueva matriz sin inicializar entradas."
   ]
  },
  {
   "cell_type": "code",
   "execution_count": 87,
   "metadata": {},
   "outputs": [
    {
     "data": {
      "text/plain": [
       "array([[1., 0., 0., 0., 0.],\n",
       "       [0., 1., 0., 0., 0.],\n",
       "       [0., 0., 1., 0., 0.],\n",
       "       [0., 0., 0., 1., 0.],\n",
       "       [0., 0., 0., 0., 1.]])"
      ]
     },
     "execution_count": 87,
     "metadata": {},
     "output_type": "execute_result"
    }
   ],
   "source": [
    "np.eye(5) #Devuelve una matriz con unos en la diagonal y ceros en los demas lugares"
   ]
  },
  {
   "cell_type": "code",
   "execution_count": 88,
   "metadata": {},
   "outputs": [
    {
     "data": {
      "text/plain": [
       "array([[0, 0, 0, 0, 0],\n",
       "       [0, 1, 0, 0, 0],\n",
       "       [0, 0, 2, 0, 0],\n",
       "       [0, 0, 0, 3, 0],\n",
       "       [0, 0, 0, 0, 4]])"
      ]
     },
     "execution_count": 88,
     "metadata": {},
     "output_type": "execute_result"
    }
   ],
   "source": [
    "#arange => devuelve un array con valores dentro del intervalo dado. \n",
    "#diag => construye una matriz diagonal. \n",
    "np.diag(np.arange(5)) "
   ]
  },
  {
   "cell_type": "code",
   "execution_count": 89,
   "metadata": {},
   "outputs": [
    {
     "data": {
      "text/plain": [
       "array([0, 1, 2, 3, 4, 5])"
      ]
     },
     "execution_count": 89,
     "metadata": {},
     "output_type": "execute_result"
    }
   ],
   "source": [
    "np.arange(6) #arange => devuelve un array con valores dentro del intervalo dado. "
   ]
  },
  {
   "cell_type": "code",
   "execution_count": 90,
   "metadata": {},
   "outputs": [
    {
     "data": {
      "text/plain": [
       "array([[6, 7, 6, 7, 6, 7, 6, 7, 6, 7],\n",
       "       [8, 9, 8, 9, 8, 9, 8, 9, 8, 9],\n",
       "       [6, 7, 6, 7, 6, 7, 6, 7, 6, 7],\n",
       "       [8, 9, 8, 9, 8, 9, 8, 9, 8, 9]])"
      ]
     },
     "execution_count": 90,
     "metadata": {},
     "output_type": "execute_result"
    }
   ],
   "source": [
    "np.tile(np.array([[6,7],[8,9]]),(2,5)) # tile =>construye una nueva matriz repitiendo la matriz que le pasamos la cantidad de veces que queramos repetir."
   ]
  },
  {
   "cell_type": "code",
   "execution_count": 91,
   "metadata": {},
   "outputs": [
    {
     "name": "stdout",
     "output_type": "stream",
     "text": [
      "[[ 0  1  2  3  4  5  6  7  8  9]\n",
      " [10 11 12 13 14 15 16 17 18 19]\n",
      " [20 21 22 23 24 25 26 27 28 29]\n",
      " [30 31 32 33 34 35 36 37 38 39]\n",
      " [40 41 42 43 44 45 46 47 48 49]]\n"
     ]
    }
   ],
   "source": [
    "x = np.arange(50).reshape(5,10) #reshape => ajusta las dismensiones de la estructura \n",
    "print(x)"
   ]
  },
  {
   "cell_type": "code",
   "execution_count": 92,
   "metadata": {},
   "outputs": [
    {
     "name": "stdout",
     "output_type": "stream",
     "text": [
      "[[2 3 4 5 6]\n",
      " [2 3 4 5 6]\n",
      " [2 3 4 5 6]\n",
      " [2 3 4 5 6]]\n"
     ]
    }
   ],
   "source": [
    "#construyendo generadores de valores para una matriz \n",
    "c =  np.array([[2+i for i in range(5)]  for i in range(4)])\n",
    "print(c)\n"
   ]
  },
  {
   "cell_type": "code",
   "execution_count": 93,
   "metadata": {},
   "outputs": [
    {
     "name": "stdout",
     "output_type": "stream",
     "text": [
      "[ 0.  12.5 25.  37.5 50. ]\n",
      "[[ 0. ]\n",
      " [12.5]\n",
      " [25. ]\n",
      " [37.5]\n",
      " [50. ]]\n"
     ]
    }
   ],
   "source": [
    "d = np.linspace(0,50,5) #Genera 5  puntos entre 0 y 50\n",
    "print(d)\n",
    "print(d[ : ,np.newaxis])#Convertir en un vector de columna"
   ]
  },
  {
   "cell_type": "code",
   "execution_count": 94,
   "metadata": {},
   "outputs": [
    {
     "name": "stdout",
     "output_type": "stream",
     "text": [
      "[[0 0 0 0 0]\n",
      " [1 1 1 1 1]\n",
      " [2 2 2 2 2]\n",
      " [3 3 3 3 3]\n",
      " [4 4 4 4 4]]\n",
      "--------------\n",
      "[[0 1 2 3 4]\n",
      " [0 1 2 3 4]\n",
      " [0 1 2 3 4]\n",
      " [0 1 2 3 4]\n",
      " [0 1 2 3 4]]\n"
     ]
    }
   ],
   "source": [
    "x, y = np.mgrid[0:5,0:5] #Asi se dibiga el grid, las lineas horizontales y verticales \n",
    "print(x)\n",
    "print('--------------')\n",
    "print(y)"
   ]
  },
  {
   "cell_type": "code",
   "execution_count": 95,
   "metadata": {},
   "outputs": [
    {
     "name": "stdout",
     "output_type": "stream",
     "text": [
      "[[0.         0.         0.         0.         0.         0.97789759]\n",
      " [0.93313332 0.         0.         0.         0.87424921 0.        ]]\n",
      "----------------------------\n",
      "  (0, 5)\t0.9778975908949454\n",
      "  (1, 0)\t0.9331333184260726\n",
      "  (1, 4)\t0.8742492074886881\n",
      "-----------------------------\n",
      "[[0.         0.         0.         0.         0.         0.97789759]\n",
      " [0.93313332 0.         0.         0.         0.87424921 0.        ]]\n"
     ]
    }
   ],
   "source": [
    "from scipy import sparse\n",
    "x = np.random.random((2,6))\n",
    "x[x < 0.85] = 0 # damos un valor cuando los numeros sean menor a 0.85\n",
    "print(x)\n",
    "print('----------------------------') \n",
    "x_csr = sparse.csr_matrix(x) #Obtemos los valores del resultado con sus posciones\n",
    "print(x_csr) \n",
    "print('-----------------------------') \n",
    "print(x_csr.toarray())  #Convierde de nuevo a una matriz"
   ]
  },
  {
   "cell_type": "code",
   "execution_count": 96,
   "metadata": {},
   "outputs": [
    {
     "data": {
      "text/plain": [
       "array([[0.50672601, 0.0575307 , 0.62757999, 0.13255253],\n",
       "       [0.13108515, 0.78854401, 0.50668611, 0.41282608],\n",
       "       [0.5780087 , 0.48817441, 0.33596388, 0.14081627],\n",
       "       [0.89144247, 0.08631166, 0.84751223, 0.52961562]])"
      ]
     },
     "execution_count": 96,
     "metadata": {},
     "output_type": "execute_result"
    }
   ],
   "source": [
    "np.random.seed(125) #Genera numeros aleatorios en base al numero especificado \n",
    "np.random.rand(4,4) #Contruye la matriz donde se muestran los numeros aleatorios "
   ]
  },
  {
   "cell_type": "code",
   "execution_count": 97,
   "metadata": {},
   "outputs": [
    {
     "name": "stdout",
     "output_type": "stream",
     "text": [
      "[1 1 1]\n",
      "[1. 1. 1. 2. 2. 2. 2. 2.]\n"
     ]
    },
    {
     "data": {
      "text/plain": [
       "array([1, 1, 1, 2, 2, 2, 2, 2])"
      ]
     },
     "execution_count": 97,
     "metadata": {},
     "output_type": "execute_result"
    }
   ],
   "source": [
    "a = np.array([1.1,1.3,1.4]).astype(int) #Convertimos el tipo de dato de la matris de flotates a enteros\n",
    "print(a)\n",
    "\n",
    "a = np.array([1.1,1.3,1.4,1.5,1.6,1.7,1.8,1.9])\n",
    "b = np.around(a) #Nos ayuda a redondondear los numero de una matriz \n",
    "print(b)\n",
    "b.astype(int) #Convertimos los numeros redoados a integer "
   ]
  },
  {
   "cell_type": "code",
   "execution_count": 98,
   "metadata": {},
   "outputs": [
    {
     "data": {
      "text/plain": [
       "array([3, 4, 6])"
      ]
     },
     "execution_count": 98,
     "metadata": {},
     "output_type": "execute_result"
    }
   ],
   "source": [
    "a = np.array([1.0,2.0,3.0])  #Trata vectores de diferentes dimensionces durante la ejecucion de ciertas operaciones\n",
    "a.astype(int)\n",
    "b = np.array([2.0,2.0,3.0])\n",
    "b.astype(int)\n",
    "d = np.array([1,2,3])\n",
    "\n",
    "\n",
    "result = a+b #suade de vectores o matrices\n",
    "result.astype(int) #Convirtiendo el resultado a int"
   ]
  },
  {
   "cell_type": "code",
   "execution_count": 122,
   "metadata": {},
   "outputs": [
    {
     "name": "stdout",
     "output_type": "stream",
     "text": [
      "[[0.         0.93313332]\n",
      " [0.         0.        ]\n",
      " [0.         0.        ]\n",
      " [0.         0.        ]\n",
      " [0.         0.87424921]\n",
      " [0.97789759 0.        ]]\n",
      "Minimo =  0.0\n",
      "Maximo  =  0.9778975908949454\n",
      "Media Aritmetica =  0.23210667640080884\n",
      "[[0.         0.         0.         0.         0.         0.97789759]\n",
      " [0.93313332 0.93313332 0.93313332 0.93313332 1.80738253 1.80738253]]\n"
     ]
    }
   ],
   "source": [
    "#Operaciones de algebra lineal basica\n",
    "\n",
    "print(x.T)\n",
    "\n",
    "print('Minimo = ' ,x.min()) #Minamo\n",
    "print('Maximo  = ' , x.max()) #Maximo \n",
    "print('Media Aritmetica = ',x.mean()) #La media aritmetica\n",
    "\n",
    "print(x.cumsum(1)) "
   ]
  },
  {
   "cell_type": "code",
   "execution_count": 126,
   "metadata": {},
   "outputs": [
    {
     "name": "stdout",
     "output_type": "stream",
     "text": [
      "[[0.         0.         0.         0.         0.         4.88948795]\n",
      " [4.66566659 0.         0.         0.         4.37124604 0.        ]]\n",
      "---------------------\n",
      "[[3.         3.         3.         3.         3.         3.97789759]\n",
      " [3.93313332 3.         3.         3.         3.87424921 3.        ]]\n"
     ]
    }
   ],
   "source": [
    "print(x*5) #Expresion escalar\n",
    "print('---------------------')\n",
    "print(x+3) #suma 3 a cada eleneto de la matriz"
   ]
  },
  {
   "cell_type": "code",
   "execution_count": 132,
   "metadata": {},
   "outputs": [
    {
     "name": "stdout",
     "output_type": "stream",
     "text": [
      "[[0.9562837  0.        ]\n",
      " [0.         1.63504947]]\n"
     ]
    }
   ],
   "source": [
    "print(np.dot(x,x.T)) #Esta función devuelve el producto escalar de dos matrices."
   ]
  },
  {
   "cell_type": "markdown",
   "metadata": {},
   "source": [
    "<h3>Para el calculo de la determinante y de la matriz inversa hay que incluir la libreria SciPy</h3>\n",
    "<h5>Formula Determiante (Dimension2x2)</h5>\n",
    "<img src='https://www.matesfacil.com/matrices/determinantes/D2.png' />"
   ]
  },
  {
   "cell_type": "code",
   "execution_count": 145,
   "metadata": {},
   "outputs": [
    {
     "name": "stdout",
     "output_type": "stream",
     "text": [
      "determinante =  -2.0\n",
      "matriz inversa = \n",
      " [[-2.   1. ]\n",
      " [ 1.5 -0.5]]\n"
     ]
    }
   ],
   "source": [
    "from scipy import linalg # Calculo de la determinante\n",
    "arr = np.array([[1,2],[3,4]])\n",
    "print('determinante = ' , linalg.det(arr))\n",
    "\n",
    "print('matriz inversa = \\n',linalg.inv(arr)) #Calcula lla matriz inversa "
   ]
  },
  {
   "cell_type": "code",
   "execution_count": 161,
   "metadata": {},
   "outputs": [
    {
     "name": "stdout",
     "output_type": "stream",
     "text": [
      "6.0\n",
      "6.0\n",
      "[3. 6.]\n"
     ]
    }
   ],
   "source": [
    "b = np.array([[2.0,2.0,3.0],\n",
    "              [4.0,5.0,6.0]])\n",
    "print(b[1,2]) #Cogiendo elemetos especificos por poscicion \n",
    "print(b[-1,-1]) #Cogiendo el ultimo elemento \n",
    "print(b[:,2]) #Codgindo elementos fila 0 columna 2"
   ]
  }
 ],
 "metadata": {
  "kernelspec": {
   "display_name": "Python 3",
   "language": "python",
   "name": "python3"
  },
  "language_info": {
   "codemirror_mode": {
    "name": "ipython",
    "version": 3
   },
   "file_extension": ".py",
   "mimetype": "text/x-python",
   "name": "python",
   "nbconvert_exporter": "python",
   "pygments_lexer": "ipython3",
   "version": "3.7.6"
  }
 },
 "nbformat": 4,
 "nbformat_minor": 4
}
