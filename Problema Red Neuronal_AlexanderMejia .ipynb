{
 "cells": [
  {
   "cell_type": "code",
   "execution_count": 78,
   "metadata": {},
   "outputs": [
    {
     "data": {
      "text/plain": [
       "0.01798620996209156"
      ]
     },
     "execution_count": 78,
     "metadata": {},
     "output_type": "execute_result"
    }
   ],
   "source": [
    "import math\n",
    "class Neurona:\n",
    "    entradas = []\n",
    "    pesos = []\n",
    "    bias = 0\n",
    "    \n",
    "    def __sumatoria_poderada(self):\n",
    "        acum = self.bias\n",
    "        for x in range(0,len(self.entradas)):\n",
    "            acum = acum + self.entradas[x] * self.pesos[x]\n",
    "        return acum\n",
    "# La funcion es paramametrica \n",
    "    def __sigmoide(self, x):\n",
    "        return 1 /(1 + math.exp(-x))\n",
    "    \n",
    "    def evaluar(self):\n",
    "        return self.__sigmoide(self.__sumatoria_poderada())\n",
    "    \n",
    "neurona1 = Neurona()\n",
    "neurona1.entradas = [2,4]\n",
    "neurona1.pesos = [1,1]\n",
    "neurona1.bi\n",
    "as = -10\n",
    "\n",
    "neurona1.evaluar()"
   ]
  },
  {
   "cell_type": "markdown",
   "metadata": {},
   "source": [
    "red neuronal => es un conjunto de capas neuronal \n",
    "1. cuatas capas\n",
    "2. cuantas nueronas en cada capa \n",
    "3. Todas las salidas deben llegar a la nueva neurona como datos de entrada\n",
    "4. Entranamiendo de la neurona "
   ]
  },
  {
   "cell_type": "code",
   "execution_count": null,
   "metadata": {},
   "outputs": [],
   "source": []
  }
 ],
 "metadata": {
  "kernelspec": {
   "display_name": "Python 3",
   "language": "python",
   "name": "python3"
  },
  "language_info": {
   "codemirror_mode": {
    "name": "ipython",
    "version": 3
   },
   "file_extension": ".py",
   "mimetype": "text/x-python",
   "name": "python",
   "nbconvert_exporter": "python",
   "pygments_lexer": "ipython3",
   "version": "3.7.6"
  }
 },
 "nbformat": 4,
 "nbformat_minor": 4
}
