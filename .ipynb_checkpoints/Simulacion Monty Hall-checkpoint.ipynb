{
 "cells": [
  {
   "cell_type": "markdown",
   "metadata": {},
   "source": [
    "<h1 >Problema de Monthy Hall</h1>\n",
    "\n",
    "<p>El Problema de Monty Hall es un problema de probabilidad que está inspirado por el concurso televisivo estadounidense Let's Make a Deal, famoso entre 1963 y 1986. Su nombre proviene del presentador, Monty Hall.</p>\n",
    "\n",
    "<h3>Tematica del problema</h3>\n",
    "\n",
    "Se ofrece un concurso cuya mecánica es la siguiente:\n",
    "\n",
    "Al concursante se le ofrece la posibilidad de escoger una entre tres puertas. Tras una de ellas se encuentra un coche, y tras las otras dos hay una cabra. El concursante gana el premio que se oculta detrás de la puerta que escoja.\n",
    "Después de que el concursante escoja una puerta, el presentador abre una de las otras dos puertas, mostrando una cabra. Siempre puede hacerlo ya que incluso si el concursante ha escogido una cabra, queda otra entre las puertas que ha descartado y el presentador conoce lo que hay detrás de cada puerta.\n",
    "Entonces, ofrece al concursante la posibilidad de cambiar su elección inicial y escoger la otra puerta que descartó originalmente, que continúa cerrada.\n",
    "La pregunta oportuna es: ¿debe hacerlo o no?\n",
    "\n",
    "<h3>Un estudio probabilístico</h3>\n",
    "\n",
    "Una suposición errónea es que, una vez solo queden dos puertas, ambas tienen la misma probabilidad (es 1/2) de contener el coche. Es errónea ya que el presentador abre la puerta después de la elección del jugador. Esto es, la elección del jugador afecta a la puerta que abre el presentador. No es un suceso aleatorio ni inconexo.\n",
    "En resumen, si mantiene su elección original gana si escogió originalmente el coche (con probabilidad de 1/3), mientras que si cambia, gana si escogió originalmente una de las dos cabras (con probabilidad de 2/3). Por lo tanto, el concursante debe cambiar su elección si quiere maximizar la probabilidad de ganar el coche."
   ]
  },
  {
   "cell_type": "code",
   "execution_count": 11,
   "metadata": {},
   "outputs": [
    {
     "name": "stdout",
     "output_type": "stream",
     "text": [
      " Ingrese el numero de partidas que desea simular: 1000\n",
      " Ingrese el numero de puertas que desea simular: 3\n",
      "--------------------------------\n",
      "Numero de partidas ganadas con cambio =  667   66.7 %\n",
      "Numero de partidas ganadas sin cambio =  333   33.300000000000004 %\n"
     ]
    }
   ],
   "source": [
    "import random\n",
    "\n",
    "numero_partidas = int(input(\" Ingrese el numero de partidas que desea simular: \"))\n",
    "puertas = int(input(\" Ingrese el numero de puertas que desea simular: \"))\n",
    "partidad_ganadas_cambio = 0\n",
    "partidad_ganadas_sin_cambio = 0\n",
    "\n",
    "for indice in range(0,numero_partidas):\n",
    "    puerta_premiada = random.randrange(0,puertas) #Colocar el premio en una puerta \n",
    "    puerta_escogida = random.randrange(0,puertas) #Escoger una puerta\n",
    "    \n",
    "#La puerta de premio y la puerta escogida nunca se van abrir \n",
    "    \n",
    "    if puerta_premiada != puerta_escogida:\n",
    "         partidad_ganadas_cambio = partidad_ganadas_cambio + 1\n",
    "           \n",
    "    else:\n",
    "        partidad_ganadas_sin_cambio= partidad_ganadas_sin_cambio + 1\n",
    "\n",
    "porcentaje_cambio = (partidad_ganadas_cambio / numero_partidas) * 100 #Obteninendo porcentaje de partidas ganadas con cambio\n",
    "porcentaje_sincambio = (partidad_ganadas_sin_cambio / numero_partidas) * 100 #Obteninendo porcentaje de partidas ganadas sin cambio\n",
    "print('--------------------------------')\n",
    "print('Numero de partidas ganadas con cambio = ' ,partidad_ganadas_cambio , ' ', porcentaje_cambio, '%')\n",
    "print('Numero de partidas ganadas sin cambio = ' ,partidad_ganadas_sin_cambio, ' ', porcentaje_sincambio,'%')\n",
    "    \n",
    "    \n",
    "    \n"
   ]
  },
  {
   "cell_type": "code",
   "execution_count": null,
   "metadata": {},
   "outputs": [],
   "source": []
  },
  {
   "cell_type": "code",
   "execution_count": null,
   "metadata": {},
   "outputs": [],
   "source": []
  }
 ],
 "metadata": {
  "kernelspec": {
   "display_name": "Python 3",
   "language": "python",
   "name": "python3"
  },
  "language_info": {
   "codemirror_mode": {
    "name": "ipython",
    "version": 3
   },
   "file_extension": ".py",
   "mimetype": "text/x-python",
   "name": "python",
   "nbconvert_exporter": "python",
   "pygments_lexer": "ipython3",
   "version": "3.7.6"
  }
 },
 "nbformat": 4,
 "nbformat_minor": 4
}
