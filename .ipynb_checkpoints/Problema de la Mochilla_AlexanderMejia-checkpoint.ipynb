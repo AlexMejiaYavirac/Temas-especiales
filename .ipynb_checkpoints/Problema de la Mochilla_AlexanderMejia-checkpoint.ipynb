{
 "cells": [
  {
   "cell_type": "code",
   "execution_count": 52,
   "metadata": {},
   "outputs": [
    {
     "name": "stdout",
     "output_type": "stream",
     "text": [
      "Ingrese el numero de elementos que desea ingresar: 3\n",
      "ingrese el peso: 5\n",
      "ingrese el valor: 2\n",
      "ingrese el peso: 8\n",
      "ingrese el valor: 2\n",
      "ingrese el peso: 7\n",
      "ingrese el valor: 2\n",
      "[[8.  2.  4. ]\n",
      " [7.  2.  3.5]\n",
      " [5.  2.  2.5]]\n",
      "[4.]\n"
     ]
    }
   ],
   "source": [
    "import numpy as np\n",
    "n = int(input('Ingrese el numero de elementos que desea ingresar: '))\n",
    "elemento = []\n",
    "vector=np.array(elemento)\n",
    "for i in range(n):\n",
    "    valor = int(input('ingrese el peso: '))\n",
    "    peso = int(input('ingrese el valor: '))\n",
    "    indice = valor/peso \n",
    "    elemento.append([valor,peso,indice])\n",
    "vector=np.array(elemento)\n",
    "vector = np.sort(vector, axis=0)\n",
    "vectores_ordenados = vector[::-1]\n",
    "print(vectores_ordenados)\n",
    "print(vectores_ordenados[0,2:3])\n",
    "\n",
    "\n"
   ]
  },
  {
   "cell_type": "code",
   "execution_count": 54,
   "metadata": {
    "scrolled": true
   },
   "outputs": [
    {
     "name": "stdout",
     "output_type": "stream",
     "text": [
      "8.0\n"
     ]
    }
   ],
   "source": [
    "print(sum(vectores_ordenados[0,0:1]))"
   ]
  },
  {
   "cell_type": "code",
   "execution_count": 61,
   "metadata": {},
   "outputs": [
    {
     "name": "stdout",
     "output_type": "stream",
     "text": [
      "[[352.]]\n"
     ]
    }
   ],
   "source": [
    "peso_max = 100\n",
    "valor_maximo = 0\n",
    "for i in range(n):\n",
    "     suma_pesos = suma_pesos + np.array([vectores_ordenados[i,0:1]])\n",
    "\n",
    "print(suma_pesos)        \n"
   ]
  }
 ],
 "metadata": {
  "kernelspec": {
   "display_name": "Python 3",
   "language": "python",
   "name": "python3"
  },
  "language_info": {
   "codemirror_mode": {
    "name": "ipython",
    "version": 3
   },
   "file_extension": ".py",
   "mimetype": "text/x-python",
   "name": "python",
   "nbconvert_exporter": "python",
   "pygments_lexer": "ipython3",
   "version": "3.7.6"
  }
 },
 "nbformat": 4,
 "nbformat_minor": 4
}
