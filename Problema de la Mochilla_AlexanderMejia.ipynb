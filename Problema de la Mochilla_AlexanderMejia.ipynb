{
 "cells": [
  {
   "cell_type": "code",
   "execution_count": 15,
   "metadata": {},
   "outputs": [
    {
     "name": "stdout",
     "output_type": "stream",
     "text": [
      "Ingrese el numero de elementos que desea ingresar: 5\n",
      "ingrese el peso: 50\n",
      "ingrese el valor: 20\n",
      "ingrese el peso: 30\n",
      "ingrese el valor: 10\n",
      "ingrese el peso: 5\n",
      "ingrese el valor: 5\n",
      "ingrese el peso: 20\n",
      "ingrese el valor: 2\n",
      "ingrese el peso: 15\n",
      "ingrese el valor: 2\n",
      "[[50.  20.  10. ]\n",
      " [30.  10.   7.5]\n",
      " [20.   5.   3. ]\n",
      " [15.   2.   2.5]\n",
      " [ 5.   2.   1. ]]\n",
      "[10.]\n"
     ]
    }
   ],
   "source": [
    "import numpy as np\n",
    "n = int(input('Ingrese el numero de elementos que desea ingresar: '))\n",
    "elemento = []\n",
    "vector=np.array(elemento)\n",
    "for i in range(n):\n",
    "    valor = int(input('ingrese el peso: '))\n",
    "    peso = int(input('ingrese el valor: '))\n",
    "    indice = valor/peso \n",
    "    elemento.append([valor,peso,indice])\n",
    "vector=np.array(elemento)\n",
    "vector = np.sort(vector, axis=0)\n",
    "vectores_ordenados = vector[::-1]\n",
    "print(vectores_ordenados)\n",
    "print(vectores_ordenados[0,2:3])\n",
    "\n",
    "\n"
   ]
  },
  {
   "cell_type": "code",
   "execution_count": 54,
   "metadata": {
    "scrolled": true
   },
   "outputs": [
    {
     "name": "stdout",
     "output_type": "stream",
     "text": [
      "8.0\n"
     ]
    }
   ],
   "source": [
    "print(sum(vectores_ordenados[0,0:1]))"
   ]
  },
  {
   "cell_type": "code",
   "execution_count": 17,
   "metadata": {},
   "outputs": [
    {
     "name": "stdout",
     "output_type": "stream",
     "text": [
      "[50.]\n",
      "[80.]\n",
      "[100.]\n",
      "[115.]\n",
      "[115.]\n"
     ]
    }
   ],
   "source": [
    "suma_pesos = 0\n",
    "peso_max = 100\n",
    "valor_maximo = 0\n",
    "for i in range(n):\n",
    "     if suma_pesos <= peso_max:\n",
    "        suma_pesos = vectores_ordenados[i,0:1] + suma_pesos \n",
    "        print(suma_pesos)\n",
    "print(suma_pesos)        \n"
   ]
  }
 ],
 "metadata": {
  "kernelspec": {
   "display_name": "Python 3",
   "language": "python",
   "name": "python3"
  },
  "language_info": {
   "codemirror_mode": {
    "name": "ipython",
    "version": 3
   },
   "file_extension": ".py",
   "mimetype": "text/x-python",
   "name": "python",
   "nbconvert_exporter": "python",
   "pygments_lexer": "ipython3",
   "version": "3.7.6"
  }
 },
 "nbformat": 4,
 "nbformat_minor": 4
}
