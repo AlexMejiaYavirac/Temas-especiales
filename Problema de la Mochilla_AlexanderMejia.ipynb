{
 "cells": [
  {
   "cell_type": "markdown",
   "metadata": {},
   "source": [
    "## Problema de la mochila \n",
    "\n",
    "En algoritmia, el problema de la mochila, es un problema de optimización combinatoria, es decir, que busca la mejor solución entre un conjunto finito de posibles soluciones a un problema. Modela una situación análoga al llenar una mochila, incapaz de soportar más de un peso determinado, con todo o parte de un conjunto de objetos, cada uno con un peso y valor específicos. Los objetos colocados en la mochila deben maximizar el valor total sin exceder el peso máximo.<br>\n",
    "\n",
    "Para este ejemplo utilizaremos el metodo conocido como el del mayor indice.Tambien cabe recalcar que no es fraccionario,es decir no se puede meter la mitad de un objeto.\n",
    "Este metodo trata de dividir el valor por peso, para asi obtener el indice.\n"
   ]
  },
  {
   "cell_type": "code",
   "execution_count": 7,
   "metadata": {
    "scrolled": true
   },
   "outputs": [
    {
     "name": "stdout",
     "output_type": "stream",
     "text": [
      "Ingrese el numero de elementos que desea ingresar: 5\n",
      "ingrese el peso: 80\n",
      "ingrese el valor: 5\n",
      "ingrese el peso: 50\n",
      "ingrese el valor: 10\n",
      "ingrese el peso: 6\n",
      "ingrese el valor: 2\n",
      "ingrese el peso: 50\n",
      "ingrese el valor: 2\n",
      "ingrese el peso: 30\n",
      "ingrese el valor: 10\n",
      "[[80. 10. 25.]\n",
      " [50. 10. 16.]\n",
      " [50.  5.  5.]\n",
      " [30.  2.  3.]\n",
      " [ 6.  2.  3.]]\n"
     ]
    }
   ],
   "source": [
    "import numpy as np\n",
    "n = int(input('Ingrese el numero de elementos que desea ingresar: ')) #Ingresar tamaño del array \n",
    "elemento = []\n",
    "vector=np.array(elemento)\n",
    "#Pedimos el numero elemento con peso y valor \n",
    "for i in range(n):\n",
    "    valor = int(input('ingrese el peso: '))\n",
    "    peso = int(input('ingrese el valor: '))\n",
    "    indice = valor/peso \n",
    "    elemento.append([valor,peso,indice]) #Agramos los valores al array\n",
    "vector=np.array(elemento)\n",
    "vector = np.sort(vector, axis=0) #Ordenamos el aray de menor a mayor\n",
    "vectores_ordenados = vector[::-1] #Invertimos el orden del array para que quede de mayor a menor \n",
    "print(vectores_ordenados)\n",
    "\n"
   ]
  },
  {
   "cell_type": "code",
   "execution_count": 8,
   "metadata": {
    "scrolled": false
   },
   "outputs": [
    {
     "name": "stdout",
     "output_type": "stream",
     "text": [
      "Ingrese el capacidad maxima de la mochila: 150\n",
      "peso maximo [130.] 1\n",
      "peso total [130.]\n"
     ]
    }
   ],
   "source": [
    "suma_pesos = 0\n",
    "peso_max = int(input('Ingrese el capacidad maxima de la mochila: '))\n",
    "suma_pesos = vectores_ordenados[0,0:1] + suma_pesos\n",
    "for i in range(n):\n",
    "     if suma_pesos <= peso_max:       \n",
    "            suma_pesos = vectores_ordenados[i+1,0:1] + suma_pesos\n",
    "            if suma_pesos >= peso_max:\n",
    "                print('peso total' ,suma_pesos - vectores_ordenados[i+1,0:1])\n",
    "            else:\n",
    "                print('peso maximo',suma_pesos , i+1)\n"
   ]
  }
 ],
 "metadata": {
  "kernelspec": {
   "display_name": "Python 3",
   "language": "python",
   "name": "python3"
  },
  "language_info": {
   "codemirror_mode": {
    "name": "ipython",
    "version": 3
   },
   "file_extension": ".py",
   "mimetype": "text/x-python",
   "name": "python",
   "nbconvert_exporter": "python",
   "pygments_lexer": "ipython3",
   "version": "3.7.6"
  }
 },
 "nbformat": 4,
 "nbformat_minor": 4
}
