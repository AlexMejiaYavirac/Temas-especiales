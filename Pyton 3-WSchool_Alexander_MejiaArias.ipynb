{
 "cells": [
  {
   "cell_type": "markdown",
   "metadata": {},
   "source": [
    "# Manual de python W3-School"
   ]
  },
  {
   "cell_type": "markdown",
   "metadata": {},
   "source": [
    "### Funcion type para saber el tipo de dato "
   ]
  },
  {
   "cell_type": "code",
   "execution_count": 2,
   "metadata": {},
   "outputs": [
    {
     "name": "stdout",
     "output_type": "stream",
     "text": [
      "<class 'int'>\n"
     ]
    }
   ],
   "source": [
    "x = 5\n",
    "print(type(x)) #Ver el tipo de dato."
   ]
  },
  {
   "cell_type": "code",
   "execution_count": 3,
   "metadata": {},
   "outputs": [
    {
     "name": "stdout",
     "output_type": "stream",
     "text": [
      "<class 'str'>\n"
     ]
    }
   ],
   "source": [
    "x = \"Hello World\"\n",
    "print(type(x))#Ver el tipo de dato."
   ]
  },
  {
   "cell_type": "code",
   "execution_count": 4,
   "metadata": {},
   "outputs": [
    {
     "name": "stdout",
     "output_type": "stream",
     "text": [
      "<class 'float'>\n"
     ]
    }
   ],
   "source": [
    "x = 20.5\n",
    "print(type(x))#Ver el tipo de dato."
   ]
  },
  {
   "cell_type": "code",
   "execution_count": 5,
   "metadata": {},
   "outputs": [
    {
     "name": "stdout",
     "output_type": "stream",
     "text": [
      "<class 'list'>\n"
     ]
    }
   ],
   "source": [
    "x = [\"apple\", \"banana\", \"cherry\"]\n",
    "print(type(x))#Ver el tipo de dato."
   ]
  },
  {
   "cell_type": "code",
   "execution_count": 6,
   "metadata": {},
   "outputs": [
    {
     "name": "stdout",
     "output_type": "stream",
     "text": [
      "<class 'tuple'>\n"
     ]
    }
   ],
   "source": [
    "x = (\"apple\",)\n",
    "print(type(x))#Ver el tipo de dato."
   ]
  },
  {
   "cell_type": "code",
   "execution_count": 7,
   "metadata": {},
   "outputs": [
    {
     "name": "stdout",
     "output_type": "stream",
     "text": [
      "<class 'dict'>\n"
     ]
    }
   ],
   "source": [
    "x = {\"name\" : \"John\", \"age\" : 36}\n",
    "print(type(x))"
   ]
  },
  {
   "cell_type": "code",
   "execution_count": 8,
   "metadata": {},
   "outputs": [
    {
     "name": "stdout",
     "output_type": "stream",
     "text": [
      "<class 'bool'>\n"
     ]
    }
   ],
   "source": [
    "x = True\n",
    "print(type(x))#Ver el tipo de dato."
   ]
  },
  {
   "cell_type": "code",
   "execution_count": 9,
   "metadata": {},
   "outputs": [
    {
     "name": "stdout",
     "output_type": "stream",
     "text": [
      "<class 'float'>\n"
     ]
    }
   ],
   "source": [
    "x = 5\n",
    "x =float(x)\n",
    "print(type(x))#Ver el tipo de dato."
   ]
  },
  {
   "cell_type": "code",
   "execution_count": 10,
   "metadata": {},
   "outputs": [
    {
     "name": "stdout",
     "output_type": "stream",
     "text": [
      "<class 'int'>\n"
     ]
    }
   ],
   "source": [
    "x = 5.5\n",
    "x = int(x)\n",
    "print(type(x))#Ver el tipo de dato."
   ]
  },
  {
   "cell_type": "markdown",
   "metadata": {},
   "source": [
    "###  Usuamos la funcion len() para saber el numero de caracteres de una variable "
   ]
  },
  {
   "cell_type": "code",
   "execution_count": 11,
   "metadata": {},
   "outputs": [
    {
     "name": "stdout",
     "output_type": "stream",
     "text": [
      "11\n"
     ]
    }
   ],
   "source": [
    "x = \"Hello World\"\n",
    "print(len(x))#Ver el numero de caracteres de a variable "
   ]
  },
  {
   "cell_type": "markdown",
   "metadata": {},
   "source": [
    "### Formas de acceder a los caracteres de una varaiable "
   ]
  },
  {
   "cell_type": "code",
   "execution_count": 12,
   "metadata": {},
   "outputs": [
    {
     "name": "stdout",
     "output_type": "stream",
     "text": [
      "H\n"
     ]
    }
   ],
   "source": [
    "txt = \"Hello World\"\n",
    "x =txt[0] # Acceder a una posicion de la varibale (recordar que empezamos a contar desde 0)\n",
    "print(x)"
   ]
  },
  {
   "cell_type": "code",
   "execution_count": 13,
   "metadata": {},
   "outputs": [
    {
     "name": "stdout",
     "output_type": "stream",
     "text": [
      "llo\n"
     ]
    }
   ],
   "source": [
    "txt = \"Hello World\"\n",
    "x = txt[2:5]# Acceder a una posicion de la varibale (desde-hasta )\n",
    "print(x)"
   ]
  },
  {
   "cell_type": "markdown",
   "metadata": {},
   "source": [
    "### Metodo strip(), upper(), lower() and remplace()"
   ]
  },
  {
   "cell_type": "code",
   "execution_count": 14,
   "metadata": {},
   "outputs": [
    {
     "name": "stdout",
     "output_type": "stream",
     "text": [
      "Hello World\n"
     ]
    }
   ],
   "source": [
    "txt = \" Hello World \"\n",
    "x = txt.strip() # La funcion strip() quita los espacios al inicio y al final \n",
    "print(x)"
   ]
  },
  {
   "cell_type": "code",
   "execution_count": 15,
   "metadata": {},
   "outputs": [
    {
     "name": "stdout",
     "output_type": "stream",
     "text": [
      "HELLO WORLD\n"
     ]
    }
   ],
   "source": [
    "txt = \"Hello World\"\n",
    "x = txt.upper() #La funcion upper() hace que todos los caracteres se conviertan en mayusculas \n",
    "print(x)\n"
   ]
  },
  {
   "cell_type": "code",
   "execution_count": 16,
   "metadata": {},
   "outputs": [
    {
     "name": "stdout",
     "output_type": "stream",
     "text": [
      "hello world\n"
     ]
    }
   ],
   "source": [
    "txt = \"Hello World\"\n",
    "txt = txt.lower() #La funcion upper() hace que todos los caracteres se conviertan en minusculas \n",
    "print(txt)\n"
   ]
  },
  {
   "cell_type": "code",
   "execution_count": 17,
   "metadata": {},
   "outputs": [
    {
     "name": "stdout",
     "output_type": "stream",
     "text": [
      "Jello World\n"
     ]
    }
   ],
   "source": [
    "txt = \"Hello World\"\n",
    "txt = txt.replace(\"H\",\"J\")\n",
    "print(txt)"
   ]
  },
  {
   "cell_type": "code",
   "execution_count": 18,
   "metadata": {},
   "outputs": [
    {
     "name": "stdout",
     "output_type": "stream",
     "text": [
      "I am 1.75, and my height is 36\n"
     ]
    }
   ],
   "source": [
    "age = 36\n",
    "height = 1.75\n",
    "txt = \"I am {1}, and my height is {0}\" #Entre las llaves podemos poner el orden \n",
    "print(txt.format(age,height))"
   ]
  },
  {
   "cell_type": "markdown",
   "metadata": {},
   "source": [
    "### Operadores Logicos \n",
    "<img src='data:image/png;base64,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'> "
   ]
  },
  {
   "cell_type": "code",
   "execution_count": 19,
   "metadata": {
    "scrolled": true
   },
   "outputs": [
    {
     "name": "stdout",
     "output_type": "stream",
     "text": [
      "True\n",
      "False\n"
     ]
    }
   ],
   "source": [
    "print(10 > 9) # Operador mayor que -> Devuelve un True\n",
    "print(10 == 9) # Operador igual ->Devuelve un False"
   ]
  },
  {
   "cell_type": "code",
   "execution_count": 20,
   "metadata": {},
   "outputs": [
    {
     "name": "stdout",
     "output_type": "stream",
     "text": [
      "True\n"
     ]
    }
   ],
   "source": [
    "print(bool(\"abc\"))\n"
   ]
  },
  {
   "cell_type": "markdown",
   "metadata": {},
   "source": [
    "### Operadores de multiplicacion y division "
   ]
  },
  {
   "cell_type": "code",
   "execution_count": 21,
   "metadata": {},
   "outputs": [
    {
     "name": "stdout",
     "output_type": "stream",
     "text": [
      "50\n"
     ]
    }
   ],
   "source": [
    "print(10 * 5) #Multiplcacion"
   ]
  },
  {
   "cell_type": "code",
   "execution_count": 22,
   "metadata": {},
   "outputs": [
    {
     "name": "stdout",
     "output_type": "stream",
     "text": [
      "5.0\n"
     ]
    }
   ],
   "source": [
    "print(10 / 2) #Division NOTA devuelve un  numero decimal "
   ]
  },
  {
   "cell_type": "markdown",
   "metadata": {},
   "source": [
    "### If en python"
   ]
  },
  {
   "cell_type": "code",
   "execution_count": 23,
   "metadata": {},
   "outputs": [
    {
     "name": "stdout",
     "output_type": "stream",
     "text": [
      "Yes, apple is a fruit!\n"
     ]
    }
   ],
   "source": [
    "fruits = [\"apple\", \"banana\"]\n",
    "if \"apple\" in fruits:\n",
    "  print(\"Yes, apple is a fruit!\")"
   ]
  },
  {
   "cell_type": "code",
   "execution_count": 24,
   "metadata": {},
   "outputs": [
    {
     "name": "stdout",
     "output_type": "stream",
     "text": [
      "5 and 10 is not equal\n"
     ]
    }
   ],
   "source": [
    "if 5 != 10: #Operador diferente de\n",
    "  print(\"5 and 10 is not equal\")"
   ]
  },
  {
   "cell_type": "code",
   "execution_count": 25,
   "metadata": {},
   "outputs": [
    {
     "name": "stdout",
     "output_type": "stream",
     "text": [
      "At least one of the statements is true\n"
     ]
    }
   ],
   "source": [
    "if 5 == 10 or 4 == 4: #Operador or para ver si se cumplen una de las dos condiciones\n",
    "  print(\"At least one of the statements is true\")"
   ]
  },
  {
   "cell_type": "markdown",
   "metadata": {},
   "source": [
    "### Listas en python \n"
   ]
  },
  {
   "cell_type": "code",
   "execution_count": 26,
   "metadata": {},
   "outputs": [
    {
     "name": "stdout",
     "output_type": "stream",
     "text": [
      "cherry\n",
      "['kiwi', 'banana', 'cherry']\n",
      "['kiwi', 'banana', 'cherry', 'orange']\n",
      "['kiwi', 'lemon', 'banana', 'cherry', 'orange']\n",
      "['kiwi', 'lemon', 'cherry', 'orange']\n",
      "orange\n",
      "['cherry', 'orange', 'kiwi']\n",
      "7\n"
     ]
    }
   ],
   "source": [
    "#Listas\n",
    "#Imprimir el seguno item\n",
    "fruits = [\"apple\", \"banana\", \"cherry\"]\n",
    "print(fruits[2])\n",
    "\n",
    "#Cambiar valor de apple por kiwi\n",
    "fruits[0] = \"kiwi\"\n",
    "print(fruits)\n",
    "\n",
    "#Agregar un item al final de la lista\n",
    "fruits.append(\"orange\")\n",
    "print(fruits)\n",
    "\n",
    "\n",
    "#Agregar un item en una posicion especifica\n",
    "fruits.insert(1, \"lemon\")\n",
    "print(fruits)\n",
    "\n",
    "#Eliminar un item \n",
    "fruits.remove(\"banana\")\n",
    "print(fruits)\n",
    "\n",
    "#Imprimir ultimo item\n",
    "print(fruits[-1])\n",
    "\n",
    "# Imprimir un rango de items de la lista\n",
    "fruits = [\"apple\", \"banana\", \"cherry\", \"orange\", \"kiwi\", \"melon\", \"mango\"]\n",
    "print(fruits[2:5])\n",
    "\n",
    "# Imprimir el numero toal de items de la lista\n",
    "print(len(fruits))\n"
   ]
  },
  {
   "cell_type": "markdown",
   "metadata": {},
   "source": [
    "### Tuplas \n",
    "Una caracterisita  importante de las tuplas en python es que son inmutables es decir no pueden cambiar "
   ]
  },
  {
   "cell_type": "code",
   "execution_count": 27,
   "metadata": {},
   "outputs": [
    {
     "name": "stdout",
     "output_type": "stream",
     "text": [
      "apple\n",
      "3\n",
      "cherry\n",
      "('cherry', 'orange', 'kiwi')\n",
      "Yes, apple is a fruit!\n",
      "{'cherry', 'apple', 'banana', 'orange'}\n",
      "{'mango', 'grapes', 'apple', 'banana', 'orange', 'cherry'}\n",
      "{'cherry', 'apple'}\n"
     ]
    }
   ],
   "source": [
    "# Tuplas\n",
    "# Imprimir el primer item de la lista\n",
    "fruits = (\"apple\", \"banana\", \"cherry\")\n",
    "print(fruits[0])\n",
    "\n",
    "#Imprimir el numero de elemtos de la tupla\n",
    "fruits = (\"apple\", \"banana\", \"cherry\")\n",
    "print(len(fruits))\n",
    "\n",
    "#Imprimir el ultmo elemento de la tupla\n",
    "fruits = (\"apple\", \"banana\", \"cherry\")\n",
    "print(fruits[-1])\n",
    "\n",
    "#Imprimir un rango de  elemento de la tupla\n",
    "fruits = (\"apple\", \"banana\", \"cherry\", \"orange\", \"kiwi\", \"melon\", \"mango\")\n",
    "print(fruits[2:5])\n",
    "\n",
    "#Buscar si un elemneto esta en la tupla\n",
    "fruits = {\"apple\", \"banana\", \"cherry\"}\n",
    "if \"apple\"in fruits:\n",
    "    print(\"Yes, apple is a fruit!\")\n",
    "    \n",
    "#Agregra un item en una tupla\n",
    "fruits = {\"apple\", \"banana\", \"cherry\"}\n",
    "fruits.add(\"orange\")\n",
    "print(fruits)\n",
    "\n",
    "# Agregar varios elementos a la tupla\n",
    "fruits = {\"apple\", \"banana\", \"cherry\"}\n",
    "more_fruits = [\"orange\", \"mango\", \"grapes\"]\n",
    "fruits.update(more_fruits)\n",
    "print(fruits)\n",
    "\n",
    "# Remover un elemento\n",
    "fruits = {\"apple\", \"banana\", \"cherry\"}\n",
    "fruits.remove(\"banana\")\n",
    "print(fruits)\n",
    "\n",
    "# Remover un elemento\n",
    "fruits = {\"apple\", \"banana\", \"cherry\"}\n",
    "fruits.discard(\"banana\") #discard solo remueve temporalmente\n",
    "\n",
    "\n"
   ]
  },
  {
   "cell_type": "markdown",
   "metadata": {},
   "source": [
    "### Diccionarios\n",
    "Los diccionarios nos permiten identificar un elemento por clave valor "
   ]
  },
  {
   "cell_type": "code",
   "execution_count": 28,
   "metadata": {},
   "outputs": [
    {
     "name": "stdout",
     "output_type": "stream",
     "text": [
      "Mustang\n",
      "2020\n",
      "{'brand': 'Ford', 'model': 'Mustang', 'year': 2020, 'color': 'red'}\n",
      "{'brand': 'Ford', 'year': 2020, 'color': 'red'}\n",
      "{}\n"
     ]
    }
   ],
   "source": [
    "#Diccionarios\n",
    "car = {\n",
    "  \"brand\": \"Ford\",\n",
    "  \"model\": \"Mustang\",\n",
    "  \"year\": 1964\n",
    "}\n",
    "print(car.get(\"model\")) #Imprimir el valor de la key = model\n",
    "\n",
    "\n",
    "#Cabiamos el valor de llave year\n",
    "car['year']=2020\n",
    "print(car[\"year\"])\n",
    "\n",
    "# Agregamos un nuevo clave valor al diccionario car\n",
    "car[\"color\"]=\"red\"\n",
    "print(car)\n",
    "\n",
    "#Remover una key\n",
    "car.pop(\"model\")\n",
    "print(car)\n",
    "\n",
    "#Limpiar el diccionario\n",
    "car.clear()\n",
    "print(car)\n"
   ]
  },
  {
   "cell_type": "markdown",
   "metadata": {},
   "source": [
    "### Condiciones de Python y declaraciones If\n",
    "Pytho soporta las condiones matematicas habituales por ejemplo:<br>\n",
    "<ul>\n",
    "<li>Igua</li>\n",
    "<li>Difente de </li>\n",
    "<li>Mayor que </li>\n",
    "<li>Menor que </li>\n",
    "<li>Mayor o igual que </li>\n",
    "<li>Menor o igual  que </li>\n",
    "</ul>"
   ]
  },
  {
   "cell_type": "code",
   "execution_count": 29,
   "metadata": {},
   "outputs": [
    {
     "name": "stdout",
     "output_type": "stream",
     "text": [
      "Hello World\n",
      "Hello World\n",
      "No\n",
      "2\n",
      "Yes\n"
     ]
    }
   ],
   "source": [
    "# Python if ..  else\n",
    "#Condicional if\n",
    "a = 50\n",
    "b = 10\n",
    "c = 20\n",
    "d = 30\n",
    "if a > b:  # mayor que \n",
    "  print(\"Hello World\")\n",
    "\n",
    "if a != b: #Diferente de \n",
    "  print(\"Hello World\")\n",
    "\n",
    "# If and else\n",
    "if a == b: # si es unicamente igual \n",
    "  print(\"Yes\")\n",
    "else:\n",
    "  print(\"No\")\n",
    "\n",
    "\n",
    "if a == b: #Si unciamente es igual\n",
    "  print(\"1\")\n",
    "elif a > b:#Si es mayor \n",
    "  print(\"2\")\n",
    "else: #caso contrario\n",
    "  print(\"3\")\n",
    "\n",
    "#If con multiples codiciones usando and (Todas las condiciones deben cumplirse para ser verdadero) \n",
    "if a == b and c == d: \n",
    "  print(\"Hello\")\n",
    "\n",
    "\n",
    "#If con multiples codiciones usando or (Al menos una condicion debe cumplirse para ser verdadero ) \n",
    "if a == b or c == d:\n",
    "  print(\"Hello\")\n",
    "\n",
    "#Escribiir un if..else en una sola linea\n",
    "print(\"Yes\") if 5 > 2 else print(\"No\")\n"
   ]
  },
  {
   "cell_type": "markdown",
   "metadata": {},
   "source": [
    "### While\n",
    "Con While podemos ejecutar un conjunto de instrccion mientras la condicion sea verdadera "
   ]
  },
  {
   "cell_type": "code",
   "execution_count": 30,
   "metadata": {
    "scrolled": true
   },
   "outputs": [
    {
     "name": "stdout",
     "output_type": "stream",
     "text": [
      "1\n",
      "2\n",
      "3\n",
      "4\n",
      "5\n"
     ]
    }
   ],
   "source": [
    "# Python While Loops\n",
    "i = 1\n",
    "while i < 6:  #Imprime i mientas  sea menor que 6\n",
    "  print(i)\n",
    "  i += 1\n"
   ]
  },
  {
   "cell_type": "code",
   "execution_count": 31,
   "metadata": {},
   "outputs": [
    {
     "name": "stdout",
     "output_type": "stream",
     "text": [
      "3\n"
     ]
    }
   ],
   "source": [
    "i = 1\n",
    "while i < 6:\n",
    "  if i == 3: #si el i es igual a 3  deten el bucle \n",
    "    print(i)\n",
    "    break\n",
    "  i += 1"
   ]
  },
  {
   "cell_type": "code",
   "execution_count": 32,
   "metadata": {
    "scrolled": true
   },
   "outputs": [
    {
     "name": "stdout",
     "output_type": "stream",
     "text": [
      "1\n",
      "2\n",
      "Aqui iba 3\n",
      "4\n",
      "5\n",
      "6\n"
     ]
    }
   ],
   "source": [
    "i = 0\n",
    "while i < 6:\n",
    "  i += 1\n",
    "  if i == 3: #nota el numero 3 no aparce en el resultado\n",
    "    print(\"Aqui iba 3\")\n",
    "    continue\n",
    "  print(i)"
   ]
  },
  {
   "cell_type": "code",
   "execution_count": 33,
   "metadata": {},
   "outputs": [
    {
     "name": "stdout",
     "output_type": "stream",
     "text": [
      "1\n",
      "2\n",
      "3\n",
      "4\n",
      "5\n",
      "6\n",
      "i is no longer less than 6\n"
     ]
    }
   ],
   "source": [
    "i = 1\n",
    "while i < 6:\n",
    "  print(i)\n",
    "  i += 1\n",
    "else:\n",
    "    print(i) #Entra a falso ya que 1 despues del bucle tiene el valor de 6 por ende no cumple la condicion\n",
    "    print(\"i is no longer less than 6\")"
   ]
  },
  {
   "cell_type": "markdown",
   "metadata": {},
   "source": [
    "### For \n",
    "Con el bucle for podemos ejecutar un conjunto de declaraciones, una vez para cada elemento de una lista, tupla, conjunto, etc."
   ]
  },
  {
   "cell_type": "code",
   "execution_count": 34,
   "metadata": {},
   "outputs": [
    {
     "name": "stdout",
     "output_type": "stream",
     "text": [
      "apple\n",
      "banana\n",
      "cherry\n"
     ]
    }
   ],
   "source": [
    "# Python For Loops\n",
    "fruits = [\"apple\", \"banana\", \"cherry\"]\n",
    "for x in fruits: # Recorrer una lista con for \n",
    "    print(x)"
   ]
  },
  {
   "cell_type": "code",
   "execution_count": 35,
   "metadata": {},
   "outputs": [
    {
     "name": "stdout",
     "output_type": "stream",
     "text": [
      "apple\n",
      "Aqui estaria banana\n",
      "cherry\n"
     ]
    }
   ],
   "source": [
    "fruits = [\"apple\", \"banana\", \"cherry\"]\n",
    "for x in fruits: #For para recorres la lista \n",
    "    if x == \"banana\": \n",
    "        print('Aqui estaria '+ x)\n",
    "        continue\n",
    "    print(x)\n",
    "\n"
   ]
  },
  {
   "cell_type": "code",
   "execution_count": 36,
   "metadata": {},
   "outputs": [
    {
     "name": "stdout",
     "output_type": "stream",
     "text": [
      "0\n",
      "1\n",
      "2\n",
      "3\n",
      "4\n",
      "5\n"
     ]
    }
   ],
   "source": [
    "for x in range(6): #Crea una secuencia de numeros \n",
    "    print(x)"
   ]
  },
  {
   "cell_type": "code",
   "execution_count": 37,
   "metadata": {},
   "outputs": [
    {
     "name": "stdout",
     "output_type": "stream",
     "text": [
      "apple\n"
     ]
    }
   ],
   "source": [
    "fruits = [\"apple\", \"banana\", \"cherry\"]\n",
    "for x in fruits:\n",
    "  if x == \"banana\": #Saimos del bucle cuando x =m banana\n",
    "    break\n",
    "  print(x)"
   ]
  },
  {
   "cell_type": "markdown",
   "metadata": {},
   "source": [
    "### Funciones\n",
    "Una funcion es un bloque de codigo el cual solo se ejecuta cuando es llamado, una funcion retorna data como resultado "
   ]
  },
  {
   "cell_type": "code",
   "execution_count": 38,
   "metadata": {},
   "outputs": [
    {
     "name": "stdout",
     "output_type": "stream",
     "text": [
      "Hello from a function\n"
     ]
    }
   ],
   "source": [
    "# Funciones en python \n",
    "def my_function(): # Declaramos una funcnion \n",
    "    print(\"Hello from a function\")\n",
    "my_function() #Ejecutamos la funcion\n",
    "\n"
   ]
  },
  {
   "cell_type": "code",
   "execution_count": 39,
   "metadata": {
    "scrolled": true
   },
   "outputs": [
    {
     "name": "stdout",
     "output_type": "stream",
     "text": [
      "Alexander\n"
     ]
    }
   ],
   "source": [
    "def my_function(fname, lname): #Funcion con parametros  \n",
    "    print(fname)\n",
    "my_function('Alexander','asdasd')"
   ]
  },
  {
   "cell_type": "code",
   "execution_count": 40,
   "metadata": {},
   "outputs": [
    {
     "data": {
      "text/plain": [
       "10"
      ]
     },
     "execution_count": 40,
     "metadata": {},
     "output_type": "execute_result"
    }
   ],
   "source": [
    "def my_function(x):\n",
    "    return x + 5 #Retorno de la funcion \n",
    "my_function(5)"
   ]
  },
  {
   "cell_type": "code",
   "execution_count": 41,
   "metadata": {},
   "outputs": [
    {
     "name": "stdout",
     "output_type": "stream",
     "text": [
      "The youngest child is Mejia\n"
     ]
    }
   ],
   "source": [
    "def my_function(*kids): #Usuamos el prefijo * cuando no sabemos cuantos parmetros pasarna  al funcion\n",
    "    print(\"The youngest child is \" + kids[2])\n",
    "my_function(\"Alexander\",'Patricio','Mejia')"
   ]
  },
  {
   "cell_type": "code",
   "execution_count": 42,
   "metadata": {},
   "outputs": [
    {
     "name": "stdout",
     "output_type": "stream",
     "text": [
      "His last name is Alexander\n"
     ]
    }
   ],
   "source": [
    "# Declaramos un diccionario \n",
    "alex = {\n",
    "  \"name\": \"Alexander\",\n",
    "  \"lastname\": \"Mejia\",\n",
    "  \"age\": 22\n",
    "}\n",
    "\n",
    "def my_function(**alex): #Usamo el prefijo ** cunado no sabemos el numero de keyword (argumentos) que no pasaran a nuestra funcion\n",
    "  print(\"His last name is \" + alex[\"name\"])\n",
    "\n",
    "my_function(**alex)#Usamo el prefijo ** cunado no sabemos el numero de keyword (argumentos) que no pasaran a nuestra funcion"
   ]
  },
  {
   "cell_type": "markdown",
   "metadata": {},
   "source": [
    "### Funcion Lambda\n",
    "Una funcion lambda es una funcion anonima ya que no tiene nombre"
   ]
  },
  {
   "cell_type": "code",
   "execution_count": 43,
   "metadata": {},
   "outputs": [
    {
     "data": {
      "text/plain": [
       "5"
      ]
     },
     "execution_count": 43,
     "metadata": {},
     "output_type": "execute_result"
    }
   ],
   "source": [
    "\n",
    "#Funciones Lambda => son funciones anonimas por que se defines sin un nombre \n",
    "a=5\n",
    "x = lambda a : a #Sintaxois lambda argumentos : expresion\n",
    "x(5)"
   ]
  },
  {
   "cell_type": "markdown",
   "metadata": {},
   "source": [
    "### Clases y Objetos \n",
    "Python es un lenguaje de programcion orientado a objetos, casi como en python es un objeto \n"
   ]
  },
  {
   "cell_type": "code",
   "execution_count": 44,
   "metadata": {},
   "outputs": [
    {
     "name": "stdout",
     "output_type": "stream",
     "text": [
      "5\n"
     ]
    }
   ],
   "source": [
    "#Clases en Python\n",
    "\n",
    "class MyClass: #Creaamos una clase\n",
    "    x = 5\n",
    "p1= MyClass() #Creando un objeto de MyClass\n",
    "\n",
    "print(p1.x) #Imprimimos el vlaor de x mediante el objeto p1"
   ]
  },
  {
   "cell_type": "code",
   "execution_count": 45,
   "metadata": {},
   "outputs": [],
   "source": [
    "class Person:\n",
    "    def __init__(self, name, age): #Usamos la funcion init para inicializar valores, es similar a un  contrucctor en otros lenguajes\n",
    "        self.name = name\n",
    "        self.age = age\n",
    "        \n",
    "        \n",
    "#A la clase Student hereda todos las propiedades y metodos de la clase My class\n",
    "#Similar a un extend en otros lenguajes\n",
    "class Student(Person):\n",
    "    x=5\n"
   ]
  },
  {
   "cell_type": "markdown",
   "metadata": {},
   "source": [
    "### Modulos \n",
    "Llamamos modulos  alas distintas librerias de python.\n",
    "Un modulo contiene un conjunto de funciones que deseamos incluir en nuestra aplicación.\n"
   ]
  },
  {
   "cell_type": "code",
   "execution_count": 46,
   "metadata": {},
   "outputs": [
    {
     "name": "stdout",
     "output_type": "stream",
     "text": [
      "['LooseVersion', 'MatplotlibDeprecationWarning', 'MutableMapping', 'Parameter', 'Path', 'RcParams', 'URL_REGEX', '_DATA_DOC_APPENDIX', '_DATA_DOC_TITLE', '_ExecInfo', '__bibtex__', '__builtins__', '__cached__', '__doc__', '__file__', '__loader__', '__name__', '__package__', '__path__', '__spec__', '__version__', '_add_data_doc', '_all_deprecated', '_check_versions', '_color_data', '_create_tmp_config_or_cache_dir', '_deprecated_ignore_map', '_deprecated_map', '_deprecated_remain_as_none', '_ensure_handler', '_error_details_fmt', '_get_config_or_cache_dir', '_get_data_path', '_get_executable_info', '_get_xdg_cache_dir', '_get_xdg_config_dir', '_init_tests', '_label_from_arg', '_log', '_logged_cached', '_open_file_or_url', '_preprocess_data', '_rc_params_in_file', '_replacer', '_version', 'atexit', 'cbook', 'checkdep_dvipng', 'checkdep_ghostscript', 'checkdep_inkscape', 'checkdep_pdftops', 'checkdep_ps_distiller', 'checkdep_usetex', 'colors', 'compare_versions', 'contextlib', 'cycler', 'dedent', 'defaultParams', 'default_test_modules', 'fontconfig_pattern', 'ft2font', 'functools', 'get_backend', 'get_cachedir', 'get_configdir', 'get_data_path', 'get_home', 'get_label', 'get_py2exe_datafiles', 'importlib', 'inspect', 'interactive', 'is_interactive', 'is_url', 'locale', 'logging', 'matplotlib_fname', 'mplDeprecation', 'namedtuple', 'numpy', 'os', 'pprint', 'rc', 'rcParams', 'rcParamsDefault', 'rcParamsOrig', 'rc_context', 'rc_file', 'rc_file_defaults', 'rc_params', 'rc_params_from_file', 'rcdefaults', 'rcsetup', 're', 'sanitize_sequence', 'set_loglevel', 'shutil', 'subprocess', 'sys', 'tempfile', 'test', 'tk_window_focus', 'use', 'validate_backend']\n"
     ]
    }
   ],
   "source": [
    "#Modulos de python \n",
    "\n",
    "import matplotlib #Asi importamos un modulo\n",
    "import matplotlib as mx #Usamos as para crear un alias del modulo  y asi poder tranajar con ese alias\n",
    "print(dir(mx)) #Asi imprimiriamos  todas las variables y nombres de funciones del modulo ('My module')\n",
    "    "
   ]
  },
  {
   "cell_type": "code",
   "execution_count": null,
   "metadata": {},
   "outputs": [],
   "source": []
  }
 ],
 "metadata": {
  "kernelspec": {
   "display_name": "Python 3",
   "language": "python",
   "name": "python3"
  },
  "language_info": {
   "codemirror_mode": {
    "name": "ipython",
    "version": 3
   },
   "file_extension": ".py",
   "mimetype": "text/x-python",
   "name": "python",
   "nbconvert_exporter": "python",
   "pygments_lexer": "ipython3",
   "version": "3.7.6"
  }
 },
 "nbformat": 4,
 "nbformat_minor": 4
}
