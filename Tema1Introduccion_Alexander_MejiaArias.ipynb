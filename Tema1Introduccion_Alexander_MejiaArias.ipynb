{
 "cells": [
  {
   "cell_type": "markdown",
   "metadata": {},
   "source": [
    "## Manual Tema 1: Introduccion al lenguaje de programacion Python "
   ]
  },
  {
   "cell_type": "code",
   "execution_count": 13,
   "metadata": {},
   "outputs": [],
   "source": [
    "# Asi se comenta una sola linea de codigo, para agilizar el proceso de comentar una linea podemos ayudarnos del atajo Crtl + /"
   ]
  },
  {
   "cell_type": "code",
   "execution_count": 14,
   "metadata": {},
   "outputs": [
    {
     "name": "stdout",
     "output_type": "stream",
     "text": [
      "Esto es una contstante numerica: 12\n",
      "Esto es una cadena de texto: Concateno texto\n"
     ]
    }
   ],
   "source": [
    "# Constantes \n",
    "# usamos la funcion print para imprimir en pantalla\n",
    "print('Esto es una contstante numerica: ' + str(12))   #Usamos la funcion str para cambiar el valor especificado a una cadena.\n",
    "print('Esto es una cadena de texto:' + ' Concateno texto')"
   ]
  },
  {
   "cell_type": "code",
   "execution_count": 15,
   "metadata": {},
   "outputs": [
    {
     "name": "stdout",
     "output_type": "stream",
     "text": [
      "Ejemplo variable numerica: 5\n",
      "Ejemplo variable texto (Strinng): I am iron man\n"
     ]
    }
   ],
   "source": [
    "# variable numerica\n",
    "variable_numerica = 5\n",
    "# variable de cadena de texto\n",
    "variable_texto = \"I am iron man\"; \n",
    "\n",
    "# imprimimos las variables, usamos el signo + para poder concatenar las variables\n",
    "# usamos str para convertit el valor numerico a string y asi poder poder momstar en pantalla\n",
    "print('Ejemplo variable numerica: ' + str(variable_numerica))\n",
    "print('Ejemplo variable texto (Strinng): ' + variable_texto )"
   ]
  },
  {
   "cell_type": "code",
   "execution_count": 16,
   "metadata": {},
   "outputs": [
    {
     "name": "stdout",
     "output_type": "stream",
     "text": [
      "2\n",
      "3\n"
     ]
    }
   ],
   "source": [
    "# En python las variables son sencibles mayusculas \n",
    "Variable = 2\n",
    "variable = 3\n",
    "\n",
    "print(Variable)\n",
    "print(variable)"
   ]
  },
  {
   "cell_type": "code",
   "execution_count": 17,
   "metadata": {},
   "outputs": [],
   "source": [
    "# Para declarar valores constantes en python debemos hacerlo letras mayusculas, asi indicaremos al lenguaje que \n",
    "# esta variable la queremos tratar como constante\n",
    "CONSTANTE_PRUEBA = 10"
   ]
  },
  {
   "cell_type": "code",
   "execution_count": 18,
   "metadata": {},
   "outputs": [
    {
     "name": "stdout",
     "output_type": "stream",
     "text": [
      "<class 'int'>\n",
      "<class 'str'>\n"
     ]
    }
   ],
   "source": [
    "# La funcion type() nos permite sabes de que tipo de dato es el valor asignado\n",
    "print(type(variable))\n",
    "print(type('I am iron man'))"
   ]
  },
  {
   "cell_type": "code",
   "execution_count": 19,
   "metadata": {},
   "outputs": [
    {
     "name": "stdout",
     "output_type": "stream",
     "text": [
      "2.9\n",
      "<class 'float'>\n",
      "<class 'str'>\n"
     ]
    }
   ],
   "source": [
    "# Conversiones a tipos de datos \n",
    "\n",
    "#En este ejemplo en primer instancia el valor de la la variable numero_decimal es de tipo float \n",
    "# pero al utilizar la funcion str cambiamos el tipo de dato a string\n",
    "numero_decimal = 2.9\n",
    "print(numero_decimal)\n",
    "print(type(numero_decimal))\n",
    "print(type(str(numero_decimal)))\n"
   ]
  },
  {
   "cell_type": "code",
   "execution_count": 20,
   "metadata": {},
   "outputs": [
    {
     "name": "stdout",
     "output_type": "stream",
     "text": [
      "2.9\n",
      "<class 'int'>\n",
      "2\n"
     ]
    }
   ],
   "source": [
    "#En este ejemplo convertimos la variable numero_decimal de tipo float a tipo int, esto se hace con la funcion int() \n",
    "print(numero_decimal) \n",
    "print(type(int(numero_decimal)))\n",
    "print(int(numero_decimal))\n"
   ]
  },
  {
   "cell_type": "code",
   "execution_count": 21,
   "metadata": {},
   "outputs": [
    {
     "name": "stdout",
     "output_type": "stream",
     "text": [
      "E\n",
      "es una\n",
      "Esto es una\n",
      "a cadena de ejemplo\n",
      "29\n"
     ]
    }
   ],
   "source": [
    "#Ejemplo para acceder a los elementos de una cadena de texto mediante la posicion\n",
    "#Para acceder a los elemetos tomamos en cuenta que el indice comienza en 0\n",
    "#Recordamos que los espacion tambien cuentan como una posicion\n",
    "cadena_texto = 'Esto es una cadena de ejemplo'\n",
    "print(cadena_texto[0])\n",
    "print(cadena_texto[5:11]) #Imprime el rango de elemetos en este ejemplo de la posicion 8 a la 10\n",
    "print(cadena_texto[:11]) #Imprime hasta la posicion asignada, en este ejemplo hast a la posicion 10 \n",
    "print(cadena_texto[10:]) #Imprime de la posicion asginada en adelante,  en este ejemplo de la posicion 10 en adelante\n",
    "print(len(cadena_texto)) #Imprime la longitud de la cadena de texto designada"
   ]
  },
  {
   "cell_type": "code",
   "execution_count": 22,
   "metadata": {},
   "outputs": [
    {
     "name": "stdout",
     "output_type": "stream",
     "text": [
      "{'Ronaldo', 'Suarez', 'Di Maria', 'Messi', 'Pique', 'Zapata'}\n",
      "<class 'set'>\n",
      "Ronaldo\n",
      "Ronaldo\n",
      "{'Suarez', 'Di Maria', 'Messi', 'Pique', 'Zapata'}\n",
      "{'Alex', 'Suarez', 'Di Maria', 'Messi', 'Pique', 'Zapata'}\n",
      "{'Alex', 'Suarez', 'Di Maria', 'Messi', 'Pique', 'Zapata'}\n"
     ]
    }
   ],
   "source": [
    "#Conjuntos en python, son colecciones no ordenas y sin elemtos repetidos\n",
    "jugadores = {\"Pique\", \"Messi\", \"Suarez\", \"Ronaldo\", \"Di Maria\", \"Zapata\"}\n",
    "print(jugadores)\n",
    "print(type(jugadores))\n",
    "print(next(iter(jugadores)))\n",
    "print(jugadores.pop()) #Elimina el elemento desiganado y devuelve el elemento qu eha elimnado \n",
    "print(jugadores)\n",
    "jugadores.add('Alex') #La funcion add añade un elemto al conjunto \n",
    "print(jugadores)\n",
    "jugadores.add('Alex') #Si el elemento que se quiere añadir ya se encuentra en el conjunto, simplemento  se devuelve el conjunto con un solo elemento ya que los elemetos no opueden repetirse\n",
    "print(jugadores)\n"
   ]
  },
  {
   "cell_type": "code",
   "execution_count": 23,
   "metadata": {},
   "outputs": [
    {
     "name": "stdout",
     "output_type": "stream",
     "text": [
      "<class 'list'>\n",
      "{'Naranja', 'Pera', 'Piña', 'Banano', 'Manzana'}\n",
      "<class 'set'>\n",
      "['Manzana', 'Pera', 'Naranja', 'Piña', 'Banano', 'Uvas']\n",
      "0\n"
     ]
    }
   ],
   "source": [
    "# Listas en pytoh\n",
    "frutas=['Manzana','Pera','Naranja','Piña','Banano']\n",
    "print(type(frutas)) #Tipo de dato lista \n",
    "\n",
    "#Asignamos a una variable la lista\n",
    "frutas_ec = set(frutas) #Cambiamos a tipo de dato set \n",
    "print(frutas_ec)\n",
    "print(type(frutas_ec))\n",
    "\n",
    "#Condicionales \n",
    "fruta = \"Pera\" #Declaramos una variable \n",
    "fruta in frutas_ec #Usamos la variable para buscar en el conjunto, esto devuelve un true en caso de contener el elemento o false en el caso contrario \n",
    "\n",
    "\n",
    "frutas.insert(len(frutas), 'Uvas') #Inserta el elemeto al final\n",
    "print(frutas)\n",
    "\n",
    "#En las lista los elementos comienazan desde el indece 0\n",
    "print(frutas.index('Manzana')) #La funcion index devuelve el indeice en donde se encuenta el elemento \n"
   ]
  },
  {
   "cell_type": "code",
   "execution_count": 24,
   "metadata": {},
   "outputs": [
    {
     "name": "stdout",
     "output_type": "stream",
     "text": [
      "[1, 2, 3, 4, 5]\n",
      "[99, 2, 3, 4, 5]\n",
      "{1, 2, 3, 4, 5}\n",
      "{1, 2, 3, 4, 5}\n"
     ]
    }
   ],
   "source": [
    "# Tuplas en python => una tupla es una lista inmutable, que sus valores no pueden cambiar \n",
    "tupla = [1,2,3,4,5]\n",
    "print(tupla)\n",
    "tupla[0]= 99\n",
    "print(tupla) #Esto no es una tupla ya que se cambio el valor y las tuplas son inmutables\n",
    "\n",
    "tupla_real = {1,2,3,4,5}\n",
    "print(tupla_real)\n",
    "#tupla_real[0] = 99\n",
    "print(tupla_real)\n"
   ]
  },
  {
   "cell_type": "code",
   "execution_count": 25,
   "metadata": {},
   "outputs": [
    {
     "name": "stdout",
     "output_type": "stream",
     "text": [
      "nissan\n",
      "['rojo', 'negro', 'gris']\n",
      "centra\n",
      "5\n",
      "rojo\n",
      "------------------\n",
      "marca : nissan\n",
      "color : ['rojo', 'negro', 'gris']\n",
      "modelo : centra\n",
      "capacidad : 5\n"
     ]
    }
   ],
   "source": [
    "# Diccionarios en python => un diccionario permite identificar a sus elementos a traves de una clave\n",
    "#Los diccionarios en python tienes sus propios metodos\n",
    "diccionario_auto = {'marca': 'nissan' ,'color': ['rojo','negro','gris'],'modelo': 'centra','capacidad': 5}\n",
    "\n",
    "#Accediento a los datos mediante la clave \n",
    "print(diccionario_auto['marca'])\n",
    "print(diccionario_auto['color'])\n",
    "print(diccionario_auto['modelo'])\n",
    "print(diccionario_auto['capacidad'])\n",
    "\n",
    "print(diccionario_auto['color'][0])#Imprimir el valor de la posicion \n",
    "\n",
    "print('------------------')\n",
    "\n",
    "#Recorriendo todo el diccionario \n",
    "for key in diccionario_auto:\n",
    "    print(key , ':' , diccionario_auto[key] )\n"
   ]
  },
  {
   "cell_type": "code",
   "execution_count": 26,
   "metadata": {},
   "outputs": [
    {
     "name": "stdout",
     "output_type": "stream",
     "text": [
      "El numero es par \n",
      "El numero es par\n"
     ]
    }
   ],
   "source": [
    "# Condicionales, bucles y funciones en python\n",
    "\n",
    "numero = 10\n",
    "\n",
    "if(numero % 2 == 0):  # El signo % hace refencia al resto de una division\n",
    "    print('El numero es par ')\n",
    "else:\n",
    "    print('El numero es impar')\n",
    "\n",
    "    \n",
    "# Otra forma de escribir esta funcion \n",
    "print('El numero es par') if numero %  2 == 0 else print(\"El numero es impar\")"
   ]
  },
  {
   "cell_type": "code",
   "execution_count": 27,
   "metadata": {},
   "outputs": [
    {
     "name": "stdout",
     "output_type": "stream",
     "text": [
      "0\n",
      "1\n",
      "2\n",
      "3\n",
      "4\n",
      "5\n",
      "6\n",
      "7\n",
      "8\n",
      "9\n"
     ]
    }
   ],
   "source": [
    "# Bucle for en python\n",
    "\n",
    "for valor in range(10): #La funcion range retorna una secuencia de numeros comenando de cero hasta le valor desigando \n",
    "    print(valor)"
   ]
  },
  {
   "cell_type": "code",
   "execution_count": 28,
   "metadata": {},
   "outputs": [
    {
     "name": "stdout",
     "output_type": "stream",
     "text": [
      "0\n",
      "1\n",
      "2\n",
      "3\n",
      "4\n"
     ]
    }
   ],
   "source": [
    "# Bucle while en python \n",
    "valor = 0\n",
    "while (valor <= 4):\n",
    "    print(valor)\n",
    "    valor = valor + 1 # Siempre aumentar el valor caso contrario se creara un buble infinito"
   ]
  },
  {
   "cell_type": "code",
   "execution_count": 29,
   "metadata": {},
   "outputs": [
    {
     "name": "stdout",
     "output_type": "stream",
     "text": [
      "3 -- 5\n",
      "4 -- 8\n"
     ]
    }
   ],
   "source": [
    "# Ejemplo de una funcion, similar a la anterior pero pasando el numero por parametro \n",
    "def convertir_numero(numero):\n",
    "    if(numero % 2 == 0):\n",
    "        return (numero , numero * 2)\n",
    "    else:\n",
    "        return(numero,numero + 2 )\n",
    "\n",
    "numero1 ,resultado1 = convertir_numero(3) #Asignamos a estas dos variables el resultado de la funcion convertir_numero\n",
    "numero2 ,resultado2 = convertir_numero(4) #Asignamos a estas dos variables el resultado de la funcion convertir_numero\n",
    "\n",
    "print(str(numero1) + ' -- ' +  str(resultado1)) #Usamos str papra convertir en string los valores numericos ya que la funcion print solo acepta valores tipo string\n",
    "print(str(numero2) + ' -- ' + str(resultado2))"
   ]
  },
  {
   "cell_type": "code",
   "execution_count": 30,
   "metadata": {},
   "outputs": [
    {
     "name": "stdout",
     "output_type": "stream",
     "text": [
      "Hola que hace\n",
      "50\n",
      "2000\n"
     ]
    }
   ],
   "source": [
    "# Objetos en python \n",
    "class Rectangunlo:\n",
    "    def __init__(self,x,y): #En __init__ se inicializan los valores\n",
    "        self.x = x\n",
    "        self.y = y\n",
    "        self.descripcicion  = \"Esto es un rectangulo \"\n",
    "        self.autor = \"Alexander Mejia\"\n",
    "    #funcion calcular area de un rectangulo \n",
    "    def area(self):\n",
    "        return self.x * self.y\n",
    "    #funcion calcular perimetro del rectangulo \n",
    "    def prerimetro(self):\n",
    "        return 2 * self.x + 2 *self.y\n",
    "    \n",
    "    def descripcion(self,text):\n",
    "        self.descripcicion = text\n",
    "        print(text)\n",
    "       \n",
    "        \n",
    "    def autorName(self,text):\n",
    "        self.autor = text\n",
    "        \n",
    "    def dimensiones(self, escala):\n",
    "        self.x = self.x * escala\n",
    "        self.hy = self.y * escala\n",
    "        \n",
    "#Creando obejetos \n",
    "rectanguloUno = Rectangunlo(200,10) #Creamos objjeto y pasamos parametros \n",
    "rectanguloDos = Rectangunlo(10,5) #Creamos objjeto y pasamos parametros \n",
    "\n",
    "rectanguloUno.descripcion(\"Hola que hace\") #Ejecutando funcion de decripcion pasando parametro \n",
    "\n",
    "print(rectanguloDos.area())#imprimiendo y ejecutando funcion de calcualr area\n",
    "print(rectanguloUno.area())\n",
    "\n",
    "\n"
   ]
  },
  {
   "cell_type": "code",
   "execution_count": 4,
   "metadata": {},
   "outputs": [
    {
     "data": {
      "image/png": "[encoded data removed]",
      "text/plain": [
       "<Figure size 432x288 with 1 Axes>"
      ]
     },
     "metadata": {
      "needs_background": "light"
     },
     "output_type": "display_data"
    }
   ],
   "source": [
    "import matplotlib\n",
    "import numpy as np\n",
    "import matplotlib.pyplot as plt\n",
    "\n",
    "puntos = 100\n",
    "\n",
    "x = np.random.randn(puntos) \n",
    "y = .4 * x\n",
    "\n",
    "plt.plot(x,y)\n",
    "plt.grid() #Dibuja las lineas de fondo, lineas de los valores"
   ]
  },
  {
   "cell_type": "code",
   "execution_count": 6,
   "metadata": {},
   "outputs": [
    {
     "ename": "TypeError",
     "evalue": "hist() missing 1 required positional argument: 'x'",
     "output_type": "error",
     "traceback": [
      "\u001b[1;31m---------------------------------------------------------------------------\u001b[0m",
      "\u001b[1;31mTypeError\u001b[0m                                 Traceback (most recent call last)",
      "\u001b[1;32m<ipython-input-6-c62596b44815>\u001b[0m in \u001b[0;36m<module>\u001b[1;34m\u001b[0m\n\u001b[0;32m     20\u001b[0m \u001b[0max\u001b[0m\u001b[1;33m.\u001b[0m\u001b[0mset_ylabel\u001b[0m\u001b[1;33m(\u001b[0m\u001b[1;34m'Variables de y'\u001b[0m\u001b[1;33m)\u001b[0m\u001b[1;33m\u001b[0m\u001b[1;33m\u001b[0m\u001b[0m\n\u001b[0;32m     21\u001b[0m \u001b[0max\u001b[0m\u001b[1;33m.\u001b[0m\u001b[0mset_title\u001b[0m\u001b[1;33m(\u001b[0m\u001b[1;34m'Histograma'\u001b[0m\u001b[1;33m)\u001b[0m\u001b[1;33m\u001b[0m\u001b[1;33m\u001b[0m\u001b[0m\n\u001b[1;32m---> 22\u001b[1;33m \u001b[0max\u001b[0m\u001b[1;33m.\u001b[0m\u001b[0mhist\u001b[0m\u001b[1;33m(\u001b[0m\u001b[1;33m)\u001b[0m\u001b[1;33m\u001b[0m\u001b[1;33m\u001b[0m\u001b[0m\n\u001b[0m\u001b[0;32m     23\u001b[0m \u001b[1;33m\u001b[0m\u001b[0m\n\u001b[0;32m     24\u001b[0m \u001b[1;33m\u001b[0m\u001b[0m\n",
      "\u001b[1;32m~\\anaconda3\\lib\\site-packages\\matplotlib\\__init__.py\u001b[0m in \u001b[0;36minner\u001b[1;34m(ax, data, *args, **kwargs)\u001b[0m\n\u001b[0;32m   1597\u001b[0m     \u001b[1;32mdef\u001b[0m \u001b[0minner\u001b[0m\u001b[1;33m(\u001b[0m\u001b[0max\u001b[0m\u001b[1;33m,\u001b[0m \u001b[1;33m*\u001b[0m\u001b[0margs\u001b[0m\u001b[1;33m,\u001b[0m \u001b[0mdata\u001b[0m\u001b[1;33m=\u001b[0m\u001b[1;32mNone\u001b[0m\u001b[1;33m,\u001b[0m \u001b[1;33m**\u001b[0m\u001b[0mkwargs\u001b[0m\u001b[1;33m)\u001b[0m\u001b[1;33m:\u001b[0m\u001b[1;33m\u001b[0m\u001b[1;33m\u001b[0m\u001b[0m\n\u001b[0;32m   1598\u001b[0m         \u001b[1;32mif\u001b[0m \u001b[0mdata\u001b[0m \u001b[1;32mis\u001b[0m \u001b[1;32mNone\u001b[0m\u001b[1;33m:\u001b[0m\u001b[1;33m\u001b[0m\u001b[1;33m\u001b[0m\u001b[0m\n\u001b[1;32m-> 1599\u001b[1;33m             \u001b[1;32mreturn\u001b[0m \u001b[0mfunc\u001b[0m\u001b[1;33m(\u001b[0m\u001b[0max\u001b[0m\u001b[1;33m,\u001b[0m \u001b[1;33m*\u001b[0m\u001b[0mmap\u001b[0m\u001b[1;33m(\u001b[0m\u001b[0msanitize_sequence\u001b[0m\u001b[1;33m,\u001b[0m \u001b[0margs\u001b[0m\u001b[1;33m)\u001b[0m\u001b[1;33m,\u001b[0m \u001b[1;33m**\u001b[0m\u001b[0mkwargs\u001b[0m\u001b[1;33m)\u001b[0m\u001b[1;33m\u001b[0m\u001b[1;33m\u001b[0m\u001b[0m\n\u001b[0m\u001b[0;32m   1600\u001b[0m \u001b[1;33m\u001b[0m\u001b[0m\n\u001b[0;32m   1601\u001b[0m         \u001b[0mbound\u001b[0m \u001b[1;33m=\u001b[0m \u001b[0mnew_sig\u001b[0m\u001b[1;33m.\u001b[0m\u001b[0mbind\u001b[0m\u001b[1;33m(\u001b[0m\u001b[0max\u001b[0m\u001b[1;33m,\u001b[0m \u001b[1;33m*\u001b[0m\u001b[0margs\u001b[0m\u001b[1;33m,\u001b[0m \u001b[1;33m**\u001b[0m\u001b[0mkwargs\u001b[0m\u001b[1;33m)\u001b[0m\u001b[1;33m\u001b[0m\u001b[1;33m\u001b[0m\u001b[0m\n",
      "\u001b[1;31mTypeError\u001b[0m: hist() missing 1 required positional argument: 'x'"
     ]
    },
    {
     "data": {
      "image/png": "[encoded data removed]",
      "text/plain": [
       "<Figure size 432x288 with 1 Axes>"
      ]
     },
     "metadata": {
      "needs_background": "light"
     },
     "output_type": "display_data"
    }
   ],
   "source": [
    "np.random.seed(1234) #numeros aleatoreos para poder mostrar un resultado \n",
    "\n",
    "\n",
    "mu = 100  # media\n",
    "sigma = 15  # desviacion tipica\n",
    "x = mu + sigma * np.random.randn(437)\n",
    "\n",
    "num_bins = 50 #intervalos \n",
    "\n",
    "fig, ax = plt.subplots()\n",
    "\n",
    "# Datos para el histograma\n",
    "n, bins, patches = ax.hist(x, num_bins, density=1)\n",
    "\n",
    "# Funcuon de la densidad\n",
    "y = ((1 / (np.sqrt(2 * np.pi) * sigma)) *\n",
    "     np.exp(-0.5 * (1 / sigma * (bins - mu))**2))\n",
    "ax.plot(bins, y, '--')\n",
    "ax.set_xlabel('Variables de x')\n",
    "ax.set_ylabel('Variables de y')\n",
    "ax.set_title('Histograma')\n",
    "\n",
    "\n",
    "\n",
    "# Para evitar cortes de labels\n",
    "fig.tight_layout()\n",
    "plt.show()\n",
    "\n",
    "\n",
    "\n"
   ]
  }
 ],
 "metadata": {
  "kernelspec": {
   "display_name": "Python 3",
   "language": "python",
   "name": "python3"
  },
  "language_info": {
   "codemirror_mode": {
    "name": "ipython",
    "version": 3
   },
   "file_extension": ".py",
   "mimetype": "text/x-python",
   "name": "python",
   "nbconvert_exporter": "python",
   "pygments_lexer": "ipython3",
   "version": "3.7.6"
  }
 },
 "nbformat": 4,
 "nbformat_minor": 4
}
